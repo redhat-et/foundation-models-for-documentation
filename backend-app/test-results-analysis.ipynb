{
 "cells": [
  {
   "cell_type": "markdown",
   "metadata": {},
   "source": [
    "# Result Analysis for the ROSA document search application\n",
    "\n",
    "This notebook runs the testing code for the ROSA document search application with different prompts and queries. The answers are then compared with the ground truth using similarity metrics."
   ]
  },
  {
   "cell_type": "code",
   "execution_count": 2,
   "metadata": {},
   "outputs": [],
   "source": [
    "import pandas as pd\n",
    "import Levenshtein\n",
    "import subprocess"
   ]
  },
  {
   "cell_type": "code",
   "execution_count": 1,
   "metadata": {},
   "outputs": [],
   "source": [
    "# Define metric functions\n",
    "# Levenshtein similarity\n",
    "def string_similarity(str1: str, str2: str) -> float:\n",
    "    distance = Levenshtein.distance(str1, str2)\n",
    "    max_len = max(len(str1), len(str2))\n",
    "\n",
    "    # Ensure that we don't divide by zero\n",
    "    if max_len == 0:\n",
    "        return 1.0\n",
    "\n",
    "    similarity = 1.0 - distance / max_len\n",
    "    return similarity\n",
    "\n",
    "# Bert similarity\n",
    "def bert_score(generated_answer, answer):\n",
    "    bertscore = load(\"bertscore\")\n",
    "    score = bertscore.compute(predictions=[generated_answer],\n",
    "                              references=[answer],\n",
    "                              model_type=\"bert-base-uncased\")\n",
    "    bert_f1_score = score[\"f1\"][0]\n",
    "    return bert_f1_score"
   ]
  },
  {
   "cell_type": "code",
   "execution_count": 4,
   "metadata": {},
   "outputs": [],
   "source": [
    "# Load evaluation dataset\n",
    "eval_dataset = pd.read_csv('../data/processed/validation_data.csv')[['Question', 'Answer']]\n",
    "questions = eval_dataset['Question'].tolist()"
   ]
  },
  {
   "cell_type": "code",
   "execution_count": 26,
   "metadata": {},
   "outputs": [],
   "source": [
    "# Define prompt list\n",
    "prompts = ['prompts/prompt_0.txt',\n",
    "           'prompts/prompt_1.txt']"
   ]
  },
  {
   "cell_type": "code",
   "execution_count": null,
   "metadata": {},
   "outputs": [],
   "source": [
    "# Run the app for the combinations of prompts and questions\n",
    "for prompt in prompts:\n",
    "    for query in questions:\n",
    "        subprocess.run(['python3',\n",
    "                        'test-app.py',\n",
    "                        '--query',\n",
    "                        query,\n",
    "                        '--prompt',\n",
    "                        prompt])\n"
   ]
  },
  {
   "cell_type": "markdown",
   "metadata": {},
   "source": [
    "## Prompt 0 Analysis"
   ]
  },
  {
   "cell_type": "code",
   "execution_count": 5,
   "metadata": {},
   "outputs": [],
   "source": [
    "df = pd.read_json(\"results/prompt_0.json\",\n",
    "                  orient=\"records\")"
   ]
  },
  {
   "cell_type": "code",
   "execution_count": 6,
   "metadata": {},
   "outputs": [
    {
     "data": {
      "text/html": [
       "<div>\n",
       "<style scoped>\n",
       "    .dataframe tbody tr th:only-of-type {\n",
       "        vertical-align: middle;\n",
       "    }\n",
       "\n",
       "    .dataframe tbody tr th {\n",
       "        vertical-align: top;\n",
       "    }\n",
       "\n",
       "    .dataframe thead th {\n",
       "        text-align: right;\n",
       "    }\n",
       "</style>\n",
       "<table border=\"1\" class=\"dataframe\">\n",
       "  <thead>\n",
       "    <tr style=\"text-align: right;\">\n",
       "      <th></th>\n",
       "      <th>prompt</th>\n",
       "      <th>query</th>\n",
       "      <th>sources</th>\n",
       "      <th>answer</th>\n",
       "      <th>actual_answer</th>\n",
       "    </tr>\n",
       "  </thead>\n",
       "  <tbody>\n",
       "    <tr>\n",
       "      <th>0</th>\n",
       "      <td>\"&lt;s&gt;[INST] &lt;&lt;SYS&gt;&gt; \\n\"\\n\"Below is the only inf...</td>\n",
       "      <td>What is Red Hat OpenShift Service on AWS (ROSA)?</td>\n",
       "      <td>../data/external/rosa-docs/rosa_architecture.m...</td>\n",
       "      <td>Based on the information provided, here is a...</td>\n",
       "      <td>Red Hat Openshift Service on AWS (ROSA) is a f...</td>\n",
       "    </tr>\n",
       "    <tr>\n",
       "      <th>1</th>\n",
       "      <td>\"&lt;s&gt;[INST] &lt;&lt;SYS&gt;&gt; \\n\"\\n\"Below is the only inf...</td>\n",
       "      <td>Where can I go to get more information/details?</td>\n",
       "      <td>../data/external/rosa-docs/logging.md\\n../data...</td>\n",
       "      <td>Based on the information provided, it appear...</td>\n",
       "      <td>- [ROSA Webpage](https://www.openshift.com/pro...</td>\n",
       "    </tr>\n",
       "    <tr>\n",
       "      <th>2</th>\n",
       "      <td>\"&lt;s&gt;[INST] &lt;&lt;SYS&gt;&gt; \\n\"\\n\"Below is the only inf...</td>\n",
       "      <td>What are the benefits of Red Hat OpenShift Ser...</td>\n",
       "      <td>../data/external/rosaworkshop/14-faq.md\\n../da...</td>\n",
       "      <td>Based on the information provided, the benef...</td>\n",
       "      <td>- **Native AWS service:** Access and use Red H...</td>\n",
       "    </tr>\n",
       "    <tr>\n",
       "      <th>3</th>\n",
       "      <td>\"&lt;s&gt;[INST] &lt;&lt;SYS&gt;&gt; \\n\"\\n\"Below is the only inf...</td>\n",
       "      <td>What are the differences between Red Hat OpenS...</td>\n",
       "      <td>../data/external/rosaworkshop/14-faq.md\\n../da...</td>\n",
       "      <td>Based on the information provided, the main ...</td>\n",
       "      <td>Everything you need to deploy and manage conta...</td>\n",
       "    </tr>\n",
       "    <tr>\n",
       "      <th>4</th>\n",
       "      <td>\"&lt;s&gt;[INST] &lt;&lt;SYS&gt;&gt; \\n\"\\n\"Below is the only inf...</td>\n",
       "      <td>What exactly am I responsible for and what is ...</td>\n",
       "      <td>../data/external/rosaworkshop/14-faq.md\\n../da...</td>\n",
       "      <td>Based on the information provided in the tab...</td>\n",
       "      <td>In short, anything that is related to deployin...</td>\n",
       "    </tr>\n",
       "  </tbody>\n",
       "</table>\n",
       "</div>"
      ],
      "text/plain": [
       "                                              prompt  \\\n",
       "0  \"<s>[INST] <<SYS>> \\n\"\\n\"Below is the only inf...   \n",
       "1  \"<s>[INST] <<SYS>> \\n\"\\n\"Below is the only inf...   \n",
       "2  \"<s>[INST] <<SYS>> \\n\"\\n\"Below is the only inf...   \n",
       "3  \"<s>[INST] <<SYS>> \\n\"\\n\"Below is the only inf...   \n",
       "4  \"<s>[INST] <<SYS>> \\n\"\\n\"Below is the only inf...   \n",
       "\n",
       "                                               query  \\\n",
       "0   What is Red Hat OpenShift Service on AWS (ROSA)?   \n",
       "1    Where can I go to get more information/details?   \n",
       "2  What are the benefits of Red Hat OpenShift Ser...   \n",
       "3  What are the differences between Red Hat OpenS...   \n",
       "4  What exactly am I responsible for and what is ...   \n",
       "\n",
       "                                             sources  \\\n",
       "0  ../data/external/rosa-docs/rosa_architecture.m...   \n",
       "1  ../data/external/rosa-docs/logging.md\\n../data...   \n",
       "2  ../data/external/rosaworkshop/14-faq.md\\n../da...   \n",
       "3  ../data/external/rosaworkshop/14-faq.md\\n../da...   \n",
       "4  ../data/external/rosaworkshop/14-faq.md\\n../da...   \n",
       "\n",
       "                                              answer  \\\n",
       "0    Based on the information provided, here is a...   \n",
       "1    Based on the information provided, it appear...   \n",
       "2    Based on the information provided, the benef...   \n",
       "3    Based on the information provided, the main ...   \n",
       "4    Based on the information provided in the tab...   \n",
       "\n",
       "                                       actual_answer  \n",
       "0  Red Hat Openshift Service on AWS (ROSA) is a f...  \n",
       "1  - [ROSA Webpage](https://www.openshift.com/pro...  \n",
       "2  - **Native AWS service:** Access and use Red H...  \n",
       "3  Everything you need to deploy and manage conta...  \n",
       "4  In short, anything that is related to deployin...  "
      ]
     },
     "execution_count": 6,
     "metadata": {},
     "output_type": "execute_result"
    }
   ],
   "source": [
    "result_df = pd.merge(df,\n",
    "                     eval_dataset,\n",
    "                     left_on='query',\n",
    "                     right_on='Question')\n",
    "result_df = result_df.drop('Question', axis=1)\n",
    "result_df = result_df.rename(columns={\"Answer\":\"actual_answer\"})\n",
    "result_df.head()"
   ]
  },
  {
   "cell_type": "code",
   "execution_count": null,
   "metadata": {},
   "outputs": [],
   "source": [
    "result_df['answer'] = result_df['answer'].apply(lambda x: x.replace(\"Based on the information provided,\", \"\"))\n",
    "result_df['bert_score'] = result_df.apply(lambda x: bert_score(x['answer'], x['actual_answer']), axis=1)\n",
    "result_df['lv_sim'] = result_df.apply(lambda x: string_similarity(x['answer'], x['actual_answer']), axis=1)"
   ]
  },
  {
   "cell_type": "code",
   "execution_count": null,
   "metadata": {},
   "outputs": [
    {
     "data": {
      "text/plain": [
       "0.5498255989514291"
      ]
     },
     "metadata": {},
     "output_type": "display_data"
    }
   ],
   "source": [
    "result_df['bert_score'].mean()"
   ]
  },
  {
   "cell_type": "code",
   "execution_count": null,
   "metadata": {},
   "outputs": [
    {
     "data": {
      "text/plain": [
       "0.23166314659038895"
      ]
     },
     "metadata": {},
     "output_type": "display_data"
    }
   ],
   "source": [
    "result_df['lv_sim'].mean()"
   ]
  },
  {
   "cell_type": "code",
   "execution_count": null,
   "metadata": {},
   "outputs": [
    {
     "name": "stderr",
     "output_type": "stream",
     "text": [
      "/var/folders/6z/yvfzhhxd3hlck120_g5plslr0000gn/T/ipykernel_58589/364587760.py:1: FutureWarning: Passing a negative integer is deprecated in version 1.0 and will not be supported in future version. Instead, use None to not limit the column width.\n",
      "  pd.set_option('display.max_colwidth', -1)\n"
     ]
    }
   ],
   "source": [
    "pd.set_option('display.max_colwidth', -1)\n",
    "pd.set_option('display.max_rows', None)\n",
    "pd.set_option('display.colheader_justify', 'center')"
   ]
  },
  {
   "cell_type": "code",
   "execution_count": null,
   "metadata": {},
   "outputs": [],
   "source": [
    "def insert_newlines(text, line_length=20):\n",
    "    result = []\n",
    "    tl = text.split()\n",
    "    for i, item in enumerate(tl):\n",
    "        result.append(item)\n",
    "        if (i + 1) % line_length == 0:\n",
    "            result.append('\\n')\n",
    "    return ' '.join(result)"
   ]
  },
  {
   "cell_type": "code",
   "execution_count": null,
   "metadata": {},
   "outputs": [],
   "source": [
    "for i,j  in result_df[['answer', 'actual_answer', 'query']].iterrows():\n",
    "    print (\"Query:\")\n",
    "    print (j['query'], '\\n')\n",
    "    print (\"Actual answer:\")\n",
    "    print(insert_newlines(j['actual_answer']), '\\n')\n",
    "    print (\"Generated answer\")\n",
    "    print(insert_newlines(j['answer']), '\\n')"
   ]
  },
  {
   "cell_type": "markdown",
   "metadata": {},
   "source": [
    "## Prompt 1 Analysis"
   ]
  },
  {
   "cell_type": "code",
   "execution_count": 15,
   "metadata": {},
   "outputs": [],
   "source": [
    "df = pd.read_json(\"results/prompt_1.json\",\n",
    "                  orient=\"records\")"
   ]
  },
  {
   "cell_type": "code",
   "execution_count": 16,
   "metadata": {},
   "outputs": [
    {
     "data": {
      "text/html": [
       "<div>\n",
       "<style scoped>\n",
       "    .dataframe tbody tr th:only-of-type {\n",
       "        vertical-align: middle;\n",
       "    }\n",
       "\n",
       "    .dataframe tbody tr th {\n",
       "        vertical-align: top;\n",
       "    }\n",
       "\n",
       "    .dataframe thead th {\n",
       "        text-align: right;\n",
       "    }\n",
       "</style>\n",
       "<table border=\"1\" class=\"dataframe\">\n",
       "  <thead>\n",
       "    <tr style=\"text-align: right;\">\n",
       "      <th></th>\n",
       "      <th>prompt</th>\n",
       "      <th>query</th>\n",
       "      <th>sources</th>\n",
       "      <th>answer</th>\n",
       "      <th>actual_answer</th>\n",
       "    </tr>\n",
       "  </thead>\n",
       "  <tbody>\n",
       "    <tr>\n",
       "      <th>0</th>\n",
       "      <td>\"&lt;s&gt;[INST] &lt;&lt;SYS&gt;&gt; \\n\"\\nYou are an engineer re...</td>\n",
       "      <td>What is Red Hat OpenShift Service on AWS (ROSA)?</td>\n",
       "      <td>../data/external/rosa-docs/rosa_architecture.m...</td>\n",
       "      <td>Thank you for your question. Red Hat OpenShi...</td>\n",
       "      <td>Red Hat Openshift Service on AWS (ROSA) is a f...</td>\n",
       "    </tr>\n",
       "    <tr>\n",
       "      <th>1</th>\n",
       "      <td>\"&lt;s&gt;[INST] &lt;&lt;SYS&gt;&gt; \\n\"\\nYou are an engineer re...</td>\n",
       "      <td>Where can I go to get more information/details?</td>\n",
       "      <td>../data/external/rosa-docs/logging.md\\n../data...</td>\n",
       "      <td>Thank you for your question. For more inform...</td>\n",
       "      <td>- [ROSA Webpage](https://www.openshift.com/pro...</td>\n",
       "    </tr>\n",
       "    <tr>\n",
       "      <th>2</th>\n",
       "      <td>\"&lt;s&gt;[INST] &lt;&lt;SYS&gt;&gt; \\n\"\\nYou are an engineer re...</td>\n",
       "      <td>What are the benefits of Red Hat OpenShift Ser...</td>\n",
       "      <td>../data/external/rosaworkshop/14-faq.md\\n../da...</td>\n",
       "      <td>Thank you for your question. Red Hat OpenShi...</td>\n",
       "      <td>- **Native AWS service:** Access and use Red H...</td>\n",
       "    </tr>\n",
       "    <tr>\n",
       "      <th>3</th>\n",
       "      <td>\"&lt;s&gt;[INST] &lt;&lt;SYS&gt;&gt; \\n\"\\nYou are an engineer re...</td>\n",
       "      <td>What are the differences between Red Hat OpenS...</td>\n",
       "      <td>../data/external/rosaworkshop/14-faq.md\\n../da...</td>\n",
       "      <td>Thank you for your question. Red Hat OpenShi...</td>\n",
       "      <td>Everything you need to deploy and manage conta...</td>\n",
       "    </tr>\n",
       "    <tr>\n",
       "      <th>4</th>\n",
       "      <td>\"&lt;s&gt;[INST] &lt;&lt;SYS&gt;&gt; \\n\"\\nYou are an engineer re...</td>\n",
       "      <td>What exactly am I responsible for and what is ...</td>\n",
       "      <td>../data/external/rosaworkshop/14-faq.md\\n../da...</td>\n",
       "      <td>Thank you for your question. Based on the in...</td>\n",
       "      <td>In short, anything that is related to deployin...</td>\n",
       "    </tr>\n",
       "  </tbody>\n",
       "</table>\n",
       "</div>"
      ],
      "text/plain": [
       "                                              prompt  \\\n",
       "0  \"<s>[INST] <<SYS>> \\n\"\\nYou are an engineer re...   \n",
       "1  \"<s>[INST] <<SYS>> \\n\"\\nYou are an engineer re...   \n",
       "2  \"<s>[INST] <<SYS>> \\n\"\\nYou are an engineer re...   \n",
       "3  \"<s>[INST] <<SYS>> \\n\"\\nYou are an engineer re...   \n",
       "4  \"<s>[INST] <<SYS>> \\n\"\\nYou are an engineer re...   \n",
       "\n",
       "                                               query  \\\n",
       "0   What is Red Hat OpenShift Service on AWS (ROSA)?   \n",
       "1    Where can I go to get more information/details?   \n",
       "2  What are the benefits of Red Hat OpenShift Ser...   \n",
       "3  What are the differences between Red Hat OpenS...   \n",
       "4  What exactly am I responsible for and what is ...   \n",
       "\n",
       "                                             sources  \\\n",
       "0  ../data/external/rosa-docs/rosa_architecture.m...   \n",
       "1  ../data/external/rosa-docs/logging.md\\n../data...   \n",
       "2  ../data/external/rosaworkshop/14-faq.md\\n../da...   \n",
       "3  ../data/external/rosaworkshop/14-faq.md\\n../da...   \n",
       "4  ../data/external/rosaworkshop/14-faq.md\\n../da...   \n",
       "\n",
       "                                              answer  \\\n",
       "0    Thank you for your question. Red Hat OpenShi...   \n",
       "1    Thank you for your question. For more inform...   \n",
       "2    Thank you for your question. Red Hat OpenShi...   \n",
       "3    Thank you for your question. Red Hat OpenShi...   \n",
       "4    Thank you for your question. Based on the in...   \n",
       "\n",
       "                                       actual_answer  \n",
       "0  Red Hat Openshift Service on AWS (ROSA) is a f...  \n",
       "1  - [ROSA Webpage](https://www.openshift.com/pro...  \n",
       "2  - **Native AWS service:** Access and use Red H...  \n",
       "3  Everything you need to deploy and manage conta...  \n",
       "4  In short, anything that is related to deployin...  "
      ]
     },
     "execution_count": 16,
     "metadata": {},
     "output_type": "execute_result"
    }
   ],
   "source": [
    "result_df = pd.merge(df,\n",
    "                     eval_dataset,\n",
    "                     left_on='query',\n",
    "                     right_on='Question')\n",
    "result_df = result_df.drop('Question', axis=1)\n",
    "result_df = result_df.rename(columns={\"Answer\":\"actual_answer\"})\n",
    "result_df.head()"
   ]
  },
  {
   "cell_type": "code",
   "execution_count": null,
   "metadata": {},
   "outputs": [],
   "source": [
    "result_df['answer'] = result_df['answer'].apply(lambda x: x.replace(\"Thank you for your question.\", \"\"))\n",
    "result_df['bert_score'] = result_df.apply(lambda x: bert_score(x['answer'], x['actual_answer']), axis=1)\n",
    "result_df['lv_sim'] = result_df.apply(lambda x: string_similarity(x['answer'], x['actual_answer']), axis=1)"
   ]
  },
  {
   "cell_type": "code",
   "execution_count": null,
   "metadata": {},
   "outputs": [
    {
     "data": {
      "text/plain": [
       "0.5743495482664842"
      ]
     },
     "metadata": {},
     "output_type": "display_data"
    }
   ],
   "source": [
    "result_df['bert_score'].mean()"
   ]
  },
  {
   "cell_type": "code",
   "execution_count": null,
   "metadata": {},
   "outputs": [
    {
     "data": {
      "text/plain": [
       "0.22871913382263181"
      ]
     },
     "metadata": {},
     "output_type": "display_data"
    }
   ],
   "source": [
    "result_df['lv_sim'].mean()"
   ]
  },
  {
   "cell_type": "code",
   "execution_count": null,
   "metadata": {},
   "outputs": [],
   "source": [
    "for i,j  in result_df[['answer', 'actual_answer', 'query']].iterrows():\n",
    "    print (\"Query:\")\n",
    "    print (j['query'], '\\n')\n",
    "    print (\"Actual answer:\")\n",
    "    print(insert_newlines(j['actual_answer']), '\\n')\n",
    "    print (\"Generated answer\")\n",
    "    print(insert_newlines(j['answer']), '\\n')"
   ]
  },
  {
   "cell_type": "markdown",
   "metadata": {},
   "source": [
    "# Conclusion\n",
    "The notebook adds a structure that can be used to test the document search application with different cases. Next, this should be used to test more prompts. Another next step is to add RAG metric evaluation in this test notebook. "
   ]
  }
 ],
 "metadata": {
  "kernelspec": {
   "display_name": "fm",
   "language": "python",
   "name": "python3"
  },
  "language_info": {
   "codemirror_mode": {
    "name": "ipython",
    "version": 3
   },
   "file_extension": ".py",
   "mimetype": "text/x-python",
   "name": "python",
   "nbconvert_exporter": "python",
   "pygments_lexer": "ipython3",
   "version": "3.10.9"
  }
 },
 "nbformat": 4,
 "nbformat_minor": 2
}
