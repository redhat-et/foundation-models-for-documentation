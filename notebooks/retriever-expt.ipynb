{
 "cells": [
  {
   "attachments": {},
   "cell_type": "markdown",
   "metadata": {},
   "source": [
    "# Document Retrieval"
   ]
  },
  {
   "cell_type": "code",
   "execution_count": null,
   "metadata": {},
   "outputs": [],
   "source": []
  },
  {
   "cell_type": "code",
   "execution_count": 1,
   "metadata": {},
   "outputs": [],
   "source": [
    "import os\n",
    "from langchain.document_loaders import DirectoryLoader, TextLoader\n",
    "from langchain.embeddings import HuggingFaceEmbeddings\n",
    "from langchain.text_splitter import MarkdownTextSplitter\n",
    "from langchain.vectorstores import Chroma\n",
    "from langchain.retrievers import BM25Retriever, EnsembleRetriever\n",
    "import pandas as pd\n",
    "from tqdm import tqdm"
   ]
  },
  {
   "cell_type": "code",
   "execution_count": 2,
   "metadata": {},
   "outputs": [],
   "source": [
    "pd.set_option('display.max_colwidth', None)"
   ]
  },
  {
   "cell_type": "code",
   "execution_count": 5,
   "metadata": {},
   "outputs": [],
   "source": [
    "def similarity_search_retrieval(query, retriever):\n",
    "    docs = retriever.similarity_search(query, k=5)\n",
    "    sources = [i.metadata.get('source') for i in docs]\n",
    "    return sources"
   ]
  },
  {
   "cell_type": "code",
   "execution_count": 6,
   "metadata": {},
   "outputs": [],
   "source": [
    "def ensemble_retriever_retrieval(query, ensemble_retriever):\n",
    "    docs = ensemble_retriever.get_relevant_documents(query)\n",
    "    sources = [doc.metadata.get('source') for doc in docs]\n",
    "    return sources"
   ]
  },
  {
   "cell_type": "code",
   "execution_count": 7,
   "metadata": {},
   "outputs": [],
   "source": [
    "# Load documents \n",
    "loader = DirectoryLoader('../data/external', glob=\"**/*.md\", loader_cls=TextLoader)\n",
    "documents = loader.load()\n",
    "text_splitter = MarkdownTextSplitter(chunk_overlap=0)\n",
    "texts = text_splitter.split_documents(documents)\n",
    "\n",
    "text_content = [doc.page_content if hasattr(doc, 'page_content') else doc.content for doc in texts]"
   ]
  },
  {
   "cell_type": "code",
   "execution_count": 9,
   "metadata": {},
   "outputs": [],
   "source": [
    "# Embeddings\n",
    "embeddings = HuggingFaceEmbeddings()"
   ]
  },
  {
   "cell_type": "code",
   "execution_count": 10,
   "metadata": {},
   "outputs": [],
   "source": [
    "# create Chroma vector store\n",
    "chroma_vectorstore = Chroma.from_documents(texts, embeddings)"
   ]
  },
  {
   "cell_type": "code",
   "execution_count": 11,
   "metadata": {},
   "outputs": [],
   "source": [
    "# Create BM25 retriever\n",
    "bm25_retriever = BM25Retriever.from_texts(text_content)\n",
    "bm25_retriever.k = 5  "
   ]
  },
  {
   "cell_type": "code",
   "execution_count": 12,
   "metadata": {},
   "outputs": [],
   "source": [
    "# Create Chroma retriever\n",
    "chroma_retriever = chroma_vectorstore.as_retriever(search_kwargs={\"k\": 6})"
   ]
  },
  {
   "cell_type": "code",
   "execution_count": 13,
   "metadata": {},
   "outputs": [],
   "source": [
    "# Create ensemble retriever\n",
    "ensemble_retriever = EnsembleRetriever(\n",
    "    retrievers=[bm25_retriever, chroma_retriever],\n",
    "    weights=[0.5, 0.5]  #weights\n",
    ")"
   ]
  },
  {
   "cell_type": "markdown",
   "metadata": {},
   "source": [
    "## Getting query from df"
   ]
  },
  {
   "cell_type": "code",
   "execution_count": 27,
   "metadata": {},
   "outputs": [],
   "source": [
    "df = pd.read_csv('final-ds.csv')[['Question','Source']]\n",
    "df = df[:1000]"
   ]
  },
  {
   "cell_type": "code",
   "execution_count": 28,
   "metadata": {},
   "outputs": [
    {
     "name": "stderr",
     "output_type": "stream",
     "text": [
      "1000it [03:23,  4.92it/s]\n"
     ]
    }
   ],
   "source": [
    "# Iterate through rows in the DataFrame and retrieve sources\n",
    "for index, row in tqdm(df.iterrows()):\n",
    "    question = row['Question']\n",
    "\n",
    "    # Retrieve sources using similarity search\n",
    "    sources_similarity_search = similarity_search_retrieval(question, chroma_vectorstore)\n",
    "\n",
    "    # Retrieve sources using ensemble retriever\n",
    "    sources_ensemble_retriever = ensemble_retriever_retrieval(question, ensemble_retriever)\n",
    "\n",
    "    # Update the DataFrame with the new columns\n",
    "    df.at[index, 'source_similarity_search'] = ', '.join(map(str, sources_similarity_search))\n",
    "    df.at[index, 'source_ensemble_retriever'] = ', '.join(map(str, sources_ensemble_retriever))\n"
   ]
  },
  {
   "cell_type": "code",
   "execution_count": 29,
   "metadata": {},
   "outputs": [],
   "source": [
    "df = df[['Question','Source','source_similarity_search','source_ensemble_retriever']]"
   ]
  },
  {
   "cell_type": "code",
   "execution_count": 30,
   "metadata": {},
   "outputs": [
    {
     "data": {
      "text/html": [
       "<div>\n",
       "<style scoped>\n",
       "    .dataframe tbody tr th:only-of-type {\n",
       "        vertical-align: middle;\n",
       "    }\n",
       "\n",
       "    .dataframe tbody tr th {\n",
       "        vertical-align: top;\n",
       "    }\n",
       "\n",
       "    .dataframe thead th {\n",
       "        text-align: right;\n",
       "    }\n",
       "</style>\n",
       "<table border=\"1\" class=\"dataframe\">\n",
       "  <thead>\n",
       "    <tr style=\"text-align: right;\">\n",
       "      <th></th>\n",
       "      <th>Question</th>\n",
       "      <th>Source</th>\n",
       "      <th>source_similarity_search</th>\n",
       "      <th>source_ensemble_retriever</th>\n",
       "    </tr>\n",
       "  </thead>\n",
       "  <tbody>\n",
       "    <tr>\n",
       "      <th>0</th>\n",
       "      <td>How do I install the Knative CLI? \\n</td>\n",
       "      <td>../data/processed/dataset-qa/rosa-docs-serverless_35.json</td>\n",
       "      <td>../data/external/rosa-docs/serverless.md, ../data/external/rosa-docs/serverless.md, ../data/external/rosa-docs/serverless.md, ../data/external/rosa-docs/serverless.md, ../data/external/rosa-docs/serverless.md</td>\n",
       "      <td>None, ../data/external/rosa-docs/serverless.md, None, ../data/external/rosa-docs/serverless.md, None, ../data/external/rosa-docs/serverless.md, ../data/external/rosa-docs/serverless.md, None, ../data/external/rosa-docs/serverless.md, None, ../data/external/rosa-docs/serverless.md</td>\n",
       "    </tr>\n",
       "    <tr>\n",
       "      <th>1</th>\n",
       "      <td>How do I use the Knative CLI to describe a subscription?\\n</td>\n",
       "      <td>../data/processed/dataset-qa/rosa-docs-serverless_35.json</td>\n",
       "      <td>../data/external/rosa-docs/serverless.md, ../data/external/rosa-docs/serverless.md, ../data/external/rosa-docs/serverless.md, ../data/external/rosa-docs/serverless.md, ../data/external/rosa-docs/serverless.md</td>\n",
       "      <td>../data/external/rosa-docs/serverless.md, None, None, ../data/external/rosa-docs/serverless.md, None, ../data/external/rosa-docs/serverless.md, ../data/external/rosa-docs/serverless.md, None, ../data/external/rosa-docs/serverless.md, ../data/external/rosa-docs/serverless.md</td>\n",
       "    </tr>\n",
       "    <tr>\n",
       "      <th>2</th>\n",
       "      <td>How do I use the Knative CLI to list existing subscriptions?\\n</td>\n",
       "      <td>../data/processed/dataset-qa/rosa-docs-serverless_35.json</td>\n",
       "      <td>../data/external/rosa-docs/serverless.md, ../data/external/rosa-docs/serverless.md, ../data/external/rosa-docs/serverless.md, ../data/external/rosa-docs/serverless.md, ../data/external/rosa-docs/serverless.md</td>\n",
       "      <td>../data/external/rosa-docs/serverless.md, None, ../data/external/rosa-docs/serverless.md, None, ../data/external/rosa-docs/serverless.md, None, None, ../data/external/rosa-docs/serverless.md, ../data/external/rosa-docs/serverless.md, None, ../data/external/rosa-docs/serverless.md</td>\n",
       "    </tr>\n",
       "    <tr>\n",
       "      <th>3</th>\n",
       "      <td>How do I update a subscription using the Knative CLI?\\n</td>\n",
       "      <td>../data/processed/dataset-qa/rosa-docs-serverless_35.json</td>\n",
       "      <td>../data/external/rosa-docs/serverless.md, ../data/external/rosa-docs/serverless.md, ../data/external/rosa-docs/serverless.md, ../data/external/rosa-docs/serverless.md, ../data/external/rosa-docs/serverless.md</td>\n",
       "      <td>../data/external/rosa-docs/serverless.md, ../data/external/rosa-docs/serverless.md, ../data/external/rosa-docs/serverless.md, None, ../data/external/rosa-docs/serverless.md, None, None, ../data/external/rosa-docs/serverless.md, ../data/external/rosa-docs/serverless.md</td>\n",
       "    </tr>\n",
       "    <tr>\n",
       "      <th>4</th>\n",
       "      <td>What parameters can I configure for event delivery? \\n</td>\n",
       "      <td>../data/processed/dataset-qa/rosa-docs-serverless_35.json</td>\n",
       "      <td>../data/external/rosa-docs/serverless.md, ../data/external/rosa-docs/serverless.md, ../data/external/rosa-docs/serverless.md, ../data/external/rosa-docs/serverless.md, ../data/external/rosa-docs/serverless.md</td>\n",
       "      <td>None, ../data/external/rosa-docs/serverless.md, None, ../data/external/rosa-docs/serverless.md, None, ../data/external/rosa-docs/serverless.md, None, ../data/external/rosa-docs/serverless.md, None, ../data/external/rosa-docs/serverless.md, ../data/external/rosa-docs/serverless.md</td>\n",
       "    </tr>\n",
       "  </tbody>\n",
       "</table>\n",
       "</div>"
      ],
      "text/plain": [
       "                                                         Question  \\\n",
       "0                            How do I install the Knative CLI? \\n   \n",
       "1      How do I use the Knative CLI to describe a subscription?\\n   \n",
       "2  How do I use the Knative CLI to list existing subscriptions?\\n   \n",
       "3         How do I update a subscription using the Knative CLI?\\n   \n",
       "4          What parameters can I configure for event delivery? \\n   \n",
       "\n",
       "                                                      Source  \\\n",
       "0  ../data/processed/dataset-qa/rosa-docs-serverless_35.json   \n",
       "1  ../data/processed/dataset-qa/rosa-docs-serverless_35.json   \n",
       "2  ../data/processed/dataset-qa/rosa-docs-serverless_35.json   \n",
       "3  ../data/processed/dataset-qa/rosa-docs-serverless_35.json   \n",
       "4  ../data/processed/dataset-qa/rosa-docs-serverless_35.json   \n",
       "\n",
       "                                                                                                                                                                                           source_similarity_search  \\\n",
       "0  ../data/external/rosa-docs/serverless.md, ../data/external/rosa-docs/serverless.md, ../data/external/rosa-docs/serverless.md, ../data/external/rosa-docs/serverless.md, ../data/external/rosa-docs/serverless.md   \n",
       "1  ../data/external/rosa-docs/serverless.md, ../data/external/rosa-docs/serverless.md, ../data/external/rosa-docs/serverless.md, ../data/external/rosa-docs/serverless.md, ../data/external/rosa-docs/serverless.md   \n",
       "2  ../data/external/rosa-docs/serverless.md, ../data/external/rosa-docs/serverless.md, ../data/external/rosa-docs/serverless.md, ../data/external/rosa-docs/serverless.md, ../data/external/rosa-docs/serverless.md   \n",
       "3  ../data/external/rosa-docs/serverless.md, ../data/external/rosa-docs/serverless.md, ../data/external/rosa-docs/serverless.md, ../data/external/rosa-docs/serverless.md, ../data/external/rosa-docs/serverless.md   \n",
       "4  ../data/external/rosa-docs/serverless.md, ../data/external/rosa-docs/serverless.md, ../data/external/rosa-docs/serverless.md, ../data/external/rosa-docs/serverless.md, ../data/external/rosa-docs/serverless.md   \n",
       "\n",
       "                                                                                                                                                                                                                                                                  source_ensemble_retriever  \n",
       "0  None, ../data/external/rosa-docs/serverless.md, None, ../data/external/rosa-docs/serverless.md, None, ../data/external/rosa-docs/serverless.md, ../data/external/rosa-docs/serverless.md, None, ../data/external/rosa-docs/serverless.md, None, ../data/external/rosa-docs/serverless.md  \n",
       "1        ../data/external/rosa-docs/serverless.md, None, None, ../data/external/rosa-docs/serverless.md, None, ../data/external/rosa-docs/serverless.md, ../data/external/rosa-docs/serverless.md, None, ../data/external/rosa-docs/serverless.md, ../data/external/rosa-docs/serverless.md  \n",
       "2  ../data/external/rosa-docs/serverless.md, None, ../data/external/rosa-docs/serverless.md, None, ../data/external/rosa-docs/serverless.md, None, None, ../data/external/rosa-docs/serverless.md, ../data/external/rosa-docs/serverless.md, None, ../data/external/rosa-docs/serverless.md  \n",
       "3              ../data/external/rosa-docs/serverless.md, ../data/external/rosa-docs/serverless.md, ../data/external/rosa-docs/serverless.md, None, ../data/external/rosa-docs/serverless.md, None, None, ../data/external/rosa-docs/serverless.md, ../data/external/rosa-docs/serverless.md  \n",
       "4  None, ../data/external/rosa-docs/serverless.md, None, ../data/external/rosa-docs/serverless.md, None, ../data/external/rosa-docs/serverless.md, None, ../data/external/rosa-docs/serverless.md, None, ../data/external/rosa-docs/serverless.md, ../data/external/rosa-docs/serverless.md  "
      ]
     },
     "execution_count": 30,
     "metadata": {},
     "output_type": "execute_result"
    }
   ],
   "source": [
    "df.head()"
   ]
  }
 ],
 "metadata": {
  "kernelspec": {
   "display_name": "Python 3 (ipykernel)",
   "language": "python",
   "name": "python3"
  },
  "language_info": {
   "codemirror_mode": {
    "name": "ipython",
    "version": 3
   },
   "file_extension": ".py",
   "mimetype": "text/x-python",
   "name": "python",
   "nbconvert_exporter": "python",
   "pygments_lexer": "ipython3",
   "version": "3.10.8"
  },
  "vscode": {
   "interpreter": {
    "hash": "dfef540ac477f3be91e5308acd671ac2a81f2c8cc1125947821b3502f71b441e"
   }
  }
 },
 "nbformat": 4,
 "nbformat_minor": 4
}
