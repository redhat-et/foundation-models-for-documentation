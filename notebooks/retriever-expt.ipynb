{
 "cells": [
  {
   "cell_type": "markdown",
   "metadata": {},
   "source": [
    "# Document Retrieval"
   ]
  },
  {
   "cell_type": "markdown",
   "metadata": {},
   "source": [
    "\n",
    "Retrieval-Augmented Generation (RAG) is a cutting-edge natural language processing paradigm that combines aspects of both information retrieval and language generation. In the RAG framework, a pre-trained language model, often a large transformer model, is augmented with a retrieval component. This retrieval mechanism allows the model to access external knowledge by retrieving relevant information from a set of source documents based on the input query. The integration of retrieval into the generation process enhances the model's contextual understanding and enables it to generate more informed and contextually relevant responses.\n",
    "\n",
    "The RAG pattern involves two main phases: Retrieval and Augmented Generation. During Retrieval, the model identifies and retrieves pertinent information from the source documents. Subsequently, in the Augmented Generation phase, the retrieved content is utilized to enrich the generation of language, resulting in more contextually aware and coherent responses.\n",
    "\n",
    "Evaluating RAG involves assessing the effectiveness of both the Retrieval and Augmented Generation components independently. In this notebook, the focus is specifically on evaluating the Retrieval part of RAG. The analysis centers on comparing two retrieval methods—similarity search and ensemble retrieval—using a source document associated with a given query. This exploration aims to provide insights into the performance and effectiveness of these retrieval techniques within the broader context of RAG pattern search."
   ]
  },
  {
   "cell_type": "code",
   "execution_count": 1,
   "metadata": {},
   "outputs": [],
   "source": [
    "__import__('pysqlite3')\n",
    "import sys\n",
    "sys.modules['sqlite3'] = sys.modules.pop('pysqlite3')"
   ]
  },
  {
   "cell_type": "code",
   "execution_count": 2,
   "metadata": {},
   "outputs": [],
   "source": [
    "import os\n",
    "from langchain.document_loaders import DirectoryLoader, TextLoader\n",
    "from langchain.embeddings import HuggingFaceEmbeddings\n",
    "from langchain.text_splitter import MarkdownTextSplitter\n",
    "from langchain.vectorstores import Chroma\n",
    "from langchain.retrievers import BM25Retriever, EnsembleRetriever\n",
    "import pandas as pd\n",
    "from tqdm import tqdm"
   ]
  },
  {
   "cell_type": "code",
   "execution_count": 3,
   "metadata": {},
   "outputs": [],
   "source": [
    "pd.set_option('display.max_colwidth', None)"
   ]
  },
  {
   "cell_type": "code",
   "execution_count": 4,
   "metadata": {},
   "outputs": [],
   "source": [
    "def similarity_search_retrieval(query, retriever):\n",
    "    docs = retriever.similarity_search(query, k=5)\n",
    "    sources = [i.metadata.get('source') for i in docs]\n",
    "    return sources"
   ]
  },
  {
   "cell_type": "code",
   "execution_count": 5,
   "metadata": {},
   "outputs": [],
   "source": [
    "def ensemble_retriever_retrieval(query, ensemble_retriever):\n",
    "    docs = ensemble_retriever.get_relevant_documents(query)\n",
    "    sources = [doc.metadata.get('source') for doc in docs]\n",
    "    return sources"
   ]
  },
  {
   "cell_type": "code",
   "execution_count": 6,
   "metadata": {},
   "outputs": [],
   "source": [
    "# Load documents \n",
    "loader = DirectoryLoader('../data/external', glob=\"**/*.md\", loader_cls=TextLoader)\n",
    "documents = loader.load()\n",
    "text_splitter = MarkdownTextSplitter(chunk_overlap=0)\n",
    "texts = text_splitter.split_documents(documents)\n",
    "\n",
    "text_content = [doc.page_content if hasattr(doc, 'page_content') else doc.content for doc in texts]"
   ]
  },
  {
   "cell_type": "code",
   "execution_count": 7,
   "metadata": {},
   "outputs": [],
   "source": [
    "# Embeddings\n",
    "embeddings = HuggingFaceEmbeddings()"
   ]
  },
  {
   "cell_type": "code",
   "execution_count": 8,
   "metadata": {},
   "outputs": [],
   "source": [
    "# create Chroma vector store\n",
    "chroma_vectorstore = Chroma.from_documents(texts, embeddings)"
   ]
  },
  {
   "cell_type": "code",
   "execution_count": 9,
   "metadata": {},
   "outputs": [],
   "source": [
    "# Create BM25 retriever\n",
    "bm25_retriever = BM25Retriever.from_texts(text_content)\n",
    "bm25_retriever.k = 5  "
   ]
  },
  {
   "cell_type": "code",
   "execution_count": 10,
   "metadata": {},
   "outputs": [],
   "source": [
    "# Create Chroma retriever\n",
    "chroma_retriever = chroma_vectorstore.as_retriever(search_kwargs={\"k\": 5})"
   ]
  },
  {
   "cell_type": "code",
   "execution_count": 11,
   "metadata": {},
   "outputs": [],
   "source": [
    "# Create ensemble retriever\n",
    "ensemble_retriever = EnsembleRetriever(\n",
    "    retrievers=[bm25_retriever, chroma_retriever],\n",
    "    weights=[0.6, 0.4]  #weights\n",
    ")"
   ]
  },
  {
   "cell_type": "markdown",
   "metadata": {},
   "source": [
    "## Getting query from df"
   ]
  },
  {
   "cell_type": "code",
   "execution_count": 12,
   "metadata": {},
   "outputs": [],
   "source": [
    "df = pd.read_csv('final-ds.csv')[['Question','Source']]"
   ]
  },
  {
   "cell_type": "code",
   "execution_count": 13,
   "metadata": {},
   "outputs": [
    {
     "name": "stderr",
     "output_type": "stream",
     "text": [
      "7560it [28:10,  4.47it/s]\n"
     ]
    }
   ],
   "source": [
    "# Iterate through rows in the DataFrame and retrieve sources\n",
    "for index, row in tqdm(df.iterrows()):\n",
    "    question = row['Question']\n",
    "\n",
    "    # Retrieve sources using similarity search\n",
    "    sources_similarity_search = similarity_search_retrieval(question, chroma_vectorstore)\n",
    "\n",
    "    # Retrieve sources using ensemble retriever\n",
    "    sources_ensemble_retriever = ensemble_retriever_retrieval(question, ensemble_retriever)\n",
    "\n",
    "    # Update the DataFrame with the new columns\n",
    "    df.at[index, 'source_similarity_search'] = ', '.join(map(str, sources_similarity_search))\n",
    "    df.at[index, 'source_ensemble_retriever'] = ', '.join(map(str, sources_ensemble_retriever))\n"
   ]
  },
  {
   "cell_type": "code",
   "execution_count": 14,
   "metadata": {},
   "outputs": [],
   "source": [
    "df = df[['Question','Source','source_similarity_search','source_ensemble_retriever']]"
   ]
  },
  {
   "cell_type": "code",
   "execution_count": 15,
   "metadata": {},
   "outputs": [
    {
     "data": {
      "text/html": [
       "<div>\n",
       "<style scoped>\n",
       "    .dataframe tbody tr th:only-of-type {\n",
       "        vertical-align: middle;\n",
       "    }\n",
       "\n",
       "    .dataframe tbody tr th {\n",
       "        vertical-align: top;\n",
       "    }\n",
       "\n",
       "    .dataframe thead th {\n",
       "        text-align: right;\n",
       "    }\n",
       "</style>\n",
       "<table border=\"1\" class=\"dataframe\">\n",
       "  <thead>\n",
       "    <tr style=\"text-align: right;\">\n",
       "      <th></th>\n",
       "      <th>Question</th>\n",
       "      <th>Source</th>\n",
       "      <th>source_similarity_search</th>\n",
       "      <th>source_ensemble_retriever</th>\n",
       "    </tr>\n",
       "  </thead>\n",
       "  <tbody>\n",
       "    <tr>\n",
       "      <th>0</th>\n",
       "      <td>How do I install the Knative CLI? \\n</td>\n",
       "      <td>../data/processed/dataset-qa/rosa-docs-serverless_35.json</td>\n",
       "      <td>../data/external/rosa-docs/serverless.md, ../data/external/rosa-docs/serverless.md, ../data/external/rosa-docs/serverless.md, ../data/external/rosa-docs/serverless.md, ../data/external/rosa-docs/serverless.md</td>\n",
       "      <td>None, None, None, None, None, ../data/external/rosa-docs/serverless.md, ../data/external/rosa-docs/serverless.md, ../data/external/rosa-docs/serverless.md, ../data/external/rosa-docs/serverless.md, ../data/external/rosa-docs/serverless.md</td>\n",
       "    </tr>\n",
       "    <tr>\n",
       "      <th>1</th>\n",
       "      <td>How do I use the Knative CLI to describe a subscription?\\n</td>\n",
       "      <td>../data/processed/dataset-qa/rosa-docs-serverless_35.json</td>\n",
       "      <td>../data/external/rosa-docs/serverless.md, ../data/external/rosa-docs/serverless.md, ../data/external/rosa-docs/serverless.md, ../data/external/rosa-docs/serverless.md, ../data/external/rosa-docs/serverless.md</td>\n",
       "      <td>../data/external/rosa-docs/serverless.md, None, None, None, None, ../data/external/rosa-docs/serverless.md, ../data/external/rosa-docs/serverless.md, ../data/external/rosa-docs/serverless.md, ../data/external/rosa-docs/serverless.md</td>\n",
       "    </tr>\n",
       "    <tr>\n",
       "      <th>2</th>\n",
       "      <td>How do I use the Knative CLI to list existing subscriptions?\\n</td>\n",
       "      <td>../data/processed/dataset-qa/rosa-docs-serverless_35.json</td>\n",
       "      <td>../data/external/rosa-docs/serverless.md, ../data/external/rosa-docs/serverless.md, ../data/external/rosa-docs/serverless.md, ../data/external/rosa-docs/serverless.md, ../data/external/rosa-docs/serverless.md</td>\n",
       "      <td>None, None, None, None, None, ../data/external/rosa-docs/serverless.md, ../data/external/rosa-docs/serverless.md, ../data/external/rosa-docs/serverless.md, ../data/external/rosa-docs/serverless.md, ../data/external/rosa-docs/serverless.md</td>\n",
       "    </tr>\n",
       "    <tr>\n",
       "      <th>3</th>\n",
       "      <td>How do I update a subscription using the Knative CLI?\\n</td>\n",
       "      <td>../data/processed/dataset-qa/rosa-docs-serverless_35.json</td>\n",
       "      <td>../data/external/rosa-docs/serverless.md, ../data/external/rosa-docs/serverless.md, ../data/external/rosa-docs/serverless.md, ../data/external/rosa-docs/serverless.md, ../data/external/rosa-docs/serverless.md</td>\n",
       "      <td>../data/external/rosa-docs/serverless.md, ../data/external/rosa-docs/serverless.md, None, None, None, ../data/external/rosa-docs/serverless.md, ../data/external/rosa-docs/serverless.md, ../data/external/rosa-docs/serverless.md</td>\n",
       "    </tr>\n",
       "    <tr>\n",
       "      <th>4</th>\n",
       "      <td>What parameters can I configure for event delivery? \\n</td>\n",
       "      <td>../data/processed/dataset-qa/rosa-docs-serverless_35.json</td>\n",
       "      <td>../data/external/rosa-docs/serverless.md, ../data/external/rosa-docs/serverless.md, ../data/external/rosa-docs/serverless.md, ../data/external/rosa-docs/serverless.md, ../data/external/rosa-docs/serverless.md</td>\n",
       "      <td>None, None, None, None, None, ../data/external/rosa-docs/serverless.md, ../data/external/rosa-docs/serverless.md, ../data/external/rosa-docs/serverless.md, ../data/external/rosa-docs/serverless.md, ../data/external/rosa-docs/serverless.md</td>\n",
       "    </tr>\n",
       "  </tbody>\n",
       "</table>\n",
       "</div>"
      ],
      "text/plain": [
       "                                                         Question  \\\n",
       "0                            How do I install the Knative CLI? \\n   \n",
       "1      How do I use the Knative CLI to describe a subscription?\\n   \n",
       "2  How do I use the Knative CLI to list existing subscriptions?\\n   \n",
       "3         How do I update a subscription using the Knative CLI?\\n   \n",
       "4          What parameters can I configure for event delivery? \\n   \n",
       "\n",
       "                                                      Source  \\\n",
       "0  ../data/processed/dataset-qa/rosa-docs-serverless_35.json   \n",
       "1  ../data/processed/dataset-qa/rosa-docs-serverless_35.json   \n",
       "2  ../data/processed/dataset-qa/rosa-docs-serverless_35.json   \n",
       "3  ../data/processed/dataset-qa/rosa-docs-serverless_35.json   \n",
       "4  ../data/processed/dataset-qa/rosa-docs-serverless_35.json   \n",
       "\n",
       "                                                                                                                                                                                           source_similarity_search  \\\n",
       "0  ../data/external/rosa-docs/serverless.md, ../data/external/rosa-docs/serverless.md, ../data/external/rosa-docs/serverless.md, ../data/external/rosa-docs/serverless.md, ../data/external/rosa-docs/serverless.md   \n",
       "1  ../data/external/rosa-docs/serverless.md, ../data/external/rosa-docs/serverless.md, ../data/external/rosa-docs/serverless.md, ../data/external/rosa-docs/serverless.md, ../data/external/rosa-docs/serverless.md   \n",
       "2  ../data/external/rosa-docs/serverless.md, ../data/external/rosa-docs/serverless.md, ../data/external/rosa-docs/serverless.md, ../data/external/rosa-docs/serverless.md, ../data/external/rosa-docs/serverless.md   \n",
       "3  ../data/external/rosa-docs/serverless.md, ../data/external/rosa-docs/serverless.md, ../data/external/rosa-docs/serverless.md, ../data/external/rosa-docs/serverless.md, ../data/external/rosa-docs/serverless.md   \n",
       "4  ../data/external/rosa-docs/serverless.md, ../data/external/rosa-docs/serverless.md, ../data/external/rosa-docs/serverless.md, ../data/external/rosa-docs/serverless.md, ../data/external/rosa-docs/serverless.md   \n",
       "\n",
       "                                                                                                                                                                                                                        source_ensemble_retriever  \n",
       "0  None, None, None, None, None, ../data/external/rosa-docs/serverless.md, ../data/external/rosa-docs/serverless.md, ../data/external/rosa-docs/serverless.md, ../data/external/rosa-docs/serverless.md, ../data/external/rosa-docs/serverless.md  \n",
       "1        ../data/external/rosa-docs/serverless.md, None, None, None, None, ../data/external/rosa-docs/serverless.md, ../data/external/rosa-docs/serverless.md, ../data/external/rosa-docs/serverless.md, ../data/external/rosa-docs/serverless.md  \n",
       "2  None, None, None, None, None, ../data/external/rosa-docs/serverless.md, ../data/external/rosa-docs/serverless.md, ../data/external/rosa-docs/serverless.md, ../data/external/rosa-docs/serverless.md, ../data/external/rosa-docs/serverless.md  \n",
       "3              ../data/external/rosa-docs/serverless.md, ../data/external/rosa-docs/serverless.md, None, None, None, ../data/external/rosa-docs/serverless.md, ../data/external/rosa-docs/serverless.md, ../data/external/rosa-docs/serverless.md  \n",
       "4  None, None, None, None, None, ../data/external/rosa-docs/serverless.md, ../data/external/rosa-docs/serverless.md, ../data/external/rosa-docs/serverless.md, ../data/external/rosa-docs/serverless.md, ../data/external/rosa-docs/serverless.md  "
      ]
     },
     "execution_count": 15,
     "metadata": {},
     "output_type": "execute_result"
    }
   ],
   "source": [
    "df.head()"
   ]
  },
  {
   "cell_type": "code",
   "execution_count": 18,
   "metadata": {},
   "outputs": [],
   "source": [
    "#df.to_csv('analysed-data.csv')"
   ]
  },
  {
   "cell_type": "markdown",
   "metadata": {},
   "source": [
    "## Data analaysis"
   ]
  },
  {
   "cell_type": "code",
   "execution_count": 19,
   "metadata": {},
   "outputs": [],
   "source": [
    "#df = pd.read_csv('analysed-data.csv')"
   ]
  },
  {
   "cell_type": "code",
   "execution_count": 20,
   "metadata": {},
   "outputs": [],
   "source": [
    "df = df[['Question','Source','source_similarity_search','source_ensemble_retriever']]"
   ]
  },
  {
   "cell_type": "code",
   "execution_count": 21,
   "metadata": {},
   "outputs": [],
   "source": [
    "# Extracting the file name from the 'Source' column\n",
    "df['Source'] = df['Source'].apply(lambda x: '_'.join(x.split(\"/\")[-1].split(\"_\")[:-1]))"
   ]
  },
  {
   "cell_type": "code",
   "execution_count": 22,
   "metadata": {},
   "outputs": [],
   "source": [
    "# Pre-processing 'source_similarity_search' column\n",
    "df['source_similarity_search'] = df['source_similarity_search'].apply(lambda x: ', '.join(set(y.split(\"/\")[-1].split(\".\")[0] for y in x.split(\", \"))))"
   ]
  },
  {
   "cell_type": "code",
   "execution_count": 23,
   "metadata": {},
   "outputs": [],
   "source": [
    "# Pre-processing 'source_ensemble_retriever' column\n",
    "df['source_ensemble_retriever'] = df['source_ensemble_retriever'].apply(\n",
    "    lambda x: ', '.join(set(y.split(\"/\")[-1].split(\".\")[0] for y in x.split(\", \") if y != 'None')) if pd.notna(x) else None\n",
    ")"
   ]
  },
  {
   "cell_type": "code",
   "execution_count": 24,
   "metadata": {},
   "outputs": [],
   "source": [
    "# Count the number of elements in 'source_similarity_search' and 'source_ensemble_retriever'\n",
    "df['Number_of_sources_from_similarity_search'] = df['source_similarity_search'].apply(lambda x: len(x.split(', ')))\n",
    "df['Number_of_sources_from_ensemble_retriever'] = df['source_ensemble_retriever'].apply(lambda x: len(x.split(', ')) if pd.notna(x) else 0)"
   ]
  },
  {
   "cell_type": "code",
   "execution_count": 25,
   "metadata": {},
   "outputs": [],
   "source": [
    "# Create a boolean column for 'source_similarity_search'\n",
    "df['Match_in_source_similarity_search'] = df.apply(lambda row: any(source in row['Source'] for source in row['source_similarity_search'].split(', ')), axis=1).astype(int)"
   ]
  },
  {
   "cell_type": "code",
   "execution_count": 26,
   "metadata": {},
   "outputs": [],
   "source": [
    "# Create a boolean column for 'source_ensemble_retriever'\n",
    "df['Match_in_source_ensemble_retriever'] = df.apply(lambda row: any(source in row['Source'] for source in row['source_ensemble_retriever'].split(', ')) if pd.notna(row['source_ensemble_retriever']) else False, axis=1).astype(int)"
   ]
  },
  {
   "cell_type": "code",
   "execution_count": 27,
   "metadata": {},
   "outputs": [
    {
     "data": {
      "text/html": [
       "<div>\n",
       "<style scoped>\n",
       "    .dataframe tbody tr th:only-of-type {\n",
       "        vertical-align: middle;\n",
       "    }\n",
       "\n",
       "    .dataframe tbody tr th {\n",
       "        vertical-align: top;\n",
       "    }\n",
       "\n",
       "    .dataframe thead th {\n",
       "        text-align: right;\n",
       "    }\n",
       "</style>\n",
       "<table border=\"1\" class=\"dataframe\">\n",
       "  <thead>\n",
       "    <tr style=\"text-align: right;\">\n",
       "      <th></th>\n",
       "      <th>Question</th>\n",
       "      <th>Source</th>\n",
       "      <th>source_similarity_search</th>\n",
       "      <th>source_ensemble_retriever</th>\n",
       "      <th>Number_of_sources_from_similarity_search</th>\n",
       "      <th>Number_of_sources_from_ensemble_retriever</th>\n",
       "      <th>Match_in_source_similarity_search</th>\n",
       "      <th>Match_in_source_ensemble_retriever</th>\n",
       "    </tr>\n",
       "  </thead>\n",
       "  <tbody>\n",
       "    <tr>\n",
       "      <th>0</th>\n",
       "      <td>How do I install the Knative CLI? \\n</td>\n",
       "      <td>rosa-docs-serverless</td>\n",
       "      <td>serverless</td>\n",
       "      <td>serverless</td>\n",
       "      <td>1</td>\n",
       "      <td>1</td>\n",
       "      <td>1</td>\n",
       "      <td>1</td>\n",
       "    </tr>\n",
       "    <tr>\n",
       "      <th>1</th>\n",
       "      <td>How do I use the Knative CLI to describe a subscription?\\n</td>\n",
       "      <td>rosa-docs-serverless</td>\n",
       "      <td>serverless</td>\n",
       "      <td>serverless</td>\n",
       "      <td>1</td>\n",
       "      <td>1</td>\n",
       "      <td>1</td>\n",
       "      <td>1</td>\n",
       "    </tr>\n",
       "    <tr>\n",
       "      <th>2</th>\n",
       "      <td>How do I use the Knative CLI to list existing subscriptions?\\n</td>\n",
       "      <td>rosa-docs-serverless</td>\n",
       "      <td>serverless</td>\n",
       "      <td>serverless</td>\n",
       "      <td>1</td>\n",
       "      <td>1</td>\n",
       "      <td>1</td>\n",
       "      <td>1</td>\n",
       "    </tr>\n",
       "    <tr>\n",
       "      <th>3</th>\n",
       "      <td>How do I update a subscription using the Knative CLI?\\n</td>\n",
       "      <td>rosa-docs-serverless</td>\n",
       "      <td>serverless</td>\n",
       "      <td>serverless</td>\n",
       "      <td>1</td>\n",
       "      <td>1</td>\n",
       "      <td>1</td>\n",
       "      <td>1</td>\n",
       "    </tr>\n",
       "    <tr>\n",
       "      <th>4</th>\n",
       "      <td>What parameters can I configure for event delivery? \\n</td>\n",
       "      <td>rosa-docs-serverless</td>\n",
       "      <td>serverless</td>\n",
       "      <td>serverless</td>\n",
       "      <td>1</td>\n",
       "      <td>1</td>\n",
       "      <td>1</td>\n",
       "      <td>1</td>\n",
       "    </tr>\n",
       "  </tbody>\n",
       "</table>\n",
       "</div>"
      ],
      "text/plain": [
       "                                                         Question  \\\n",
       "0                            How do I install the Knative CLI? \\n   \n",
       "1      How do I use the Knative CLI to describe a subscription?\\n   \n",
       "2  How do I use the Knative CLI to list existing subscriptions?\\n   \n",
       "3         How do I update a subscription using the Knative CLI?\\n   \n",
       "4          What parameters can I configure for event delivery? \\n   \n",
       "\n",
       "                 Source source_similarity_search source_ensemble_retriever  \\\n",
       "0  rosa-docs-serverless               serverless                serverless   \n",
       "1  rosa-docs-serverless               serverless                serverless   \n",
       "2  rosa-docs-serverless               serverless                serverless   \n",
       "3  rosa-docs-serverless               serverless                serverless   \n",
       "4  rosa-docs-serverless               serverless                serverless   \n",
       "\n",
       "   Number_of_sources_from_similarity_search  \\\n",
       "0                                         1   \n",
       "1                                         1   \n",
       "2                                         1   \n",
       "3                                         1   \n",
       "4                                         1   \n",
       "\n",
       "   Number_of_sources_from_ensemble_retriever  \\\n",
       "0                                          1   \n",
       "1                                          1   \n",
       "2                                          1   \n",
       "3                                          1   \n",
       "4                                          1   \n",
       "\n",
       "   Match_in_source_similarity_search  Match_in_source_ensemble_retriever  \n",
       "0                                  1                                   1  \n",
       "1                                  1                                   1  \n",
       "2                                  1                                   1  \n",
       "3                                  1                                   1  \n",
       "4                                  1                                   1  "
      ]
     },
     "execution_count": 27,
     "metadata": {},
     "output_type": "execute_result"
    }
   ],
   "source": [
    "df.head()"
   ]
  },
  {
   "cell_type": "markdown",
   "metadata": {},
   "source": [
    "**Total Query**"
   ]
  },
  {
   "cell_type": "code",
   "execution_count": 28,
   "metadata": {},
   "outputs": [
    {
     "data": {
      "text/plain": [
       "6212"
      ]
     },
     "execution_count": 28,
     "metadata": {},
     "output_type": "execute_result"
    }
   ],
   "source": [
    "df.Question.nunique()"
   ]
  },
  {
   "cell_type": "code",
   "execution_count": 46,
   "metadata": {},
   "outputs": [
    {
     "data": {
      "text/plain": [
       "7560"
      ]
     },
     "execution_count": 46,
     "metadata": {},
     "output_type": "execute_result"
    }
   ],
   "source": [
    "len(df.Question)"
   ]
  },
  {
   "cell_type": "markdown",
   "metadata": {},
   "source": [
    "**Percentage Match from similarity search**"
   ]
  },
  {
   "cell_type": "code",
   "execution_count": 44,
   "metadata": {},
   "outputs": [
    {
     "data": {
      "text/plain": [
       "69.97354497354497"
      ]
     },
     "execution_count": 44,
     "metadata": {},
     "output_type": "execute_result"
    }
   ],
   "source": [
    "(df.Match_in_source_similarity_search.sum() / len(df.Question))*100"
   ]
  },
  {
   "cell_type": "markdown",
   "metadata": {},
   "source": [
    "**Percentage Match from Ensemble search**"
   ]
  },
  {
   "cell_type": "code",
   "execution_count": 45,
   "metadata": {},
   "outputs": [
    {
     "data": {
      "text/plain": [
       "69.78835978835978"
      ]
     },
     "execution_count": 45,
     "metadata": {},
     "output_type": "execute_result"
    }
   ],
   "source": [
    "(df.Match_in_source_ensemble_retriever.sum() / len(df.Question))*100"
   ]
  },
  {
   "cell_type": "markdown",
   "metadata": {},
   "source": [
    "**Cases when there is no match in Similarity search**"
   ]
  },
  {
   "cell_type": "code",
   "execution_count": 31,
   "metadata": {},
   "outputs": [
    {
     "data": {
      "text/html": [
       "<div>\n",
       "<style scoped>\n",
       "    .dataframe tbody tr th:only-of-type {\n",
       "        vertical-align: middle;\n",
       "    }\n",
       "\n",
       "    .dataframe tbody tr th {\n",
       "        vertical-align: top;\n",
       "    }\n",
       "\n",
       "    .dataframe thead th {\n",
       "        text-align: right;\n",
       "    }\n",
       "</style>\n",
       "<table border=\"1\" class=\"dataframe\">\n",
       "  <thead>\n",
       "    <tr style=\"text-align: right;\">\n",
       "      <th></th>\n",
       "      <th>Question</th>\n",
       "      <th>Source</th>\n",
       "      <th>source_similarity_search</th>\n",
       "      <th>source_ensemble_retriever</th>\n",
       "      <th>Number_of_sources_from_similarity_search</th>\n",
       "      <th>Number_of_sources_from_ensemble_retriever</th>\n",
       "      <th>Match_in_source_similarity_search</th>\n",
       "      <th>Match_in_source_ensemble_retriever</th>\n",
       "    </tr>\n",
       "  </thead>\n",
       "  <tbody>\n",
       "    <tr>\n",
       "      <th>33</th>\n",
       "      <td>How do I create an AWS service account for clusters with AWS Security Token Service (STS) enabled?\\n\\n</td>\n",
       "      <td>rosa-docs-logging</td>\n",
       "      <td>authentication, ecr-secret-operator-iam_assume_role, using-sts-with-aws-services-_index, aws-secrets-manager-csi-_index</td>\n",
       "      <td>authentication, ecr-secret-operator-iam_assume_role, using-sts-with-aws-services-_index, aws-secrets-manager-csi-_index</td>\n",
       "      <td>4</td>\n",
       "      <td>4</td>\n",
       "      <td>0</td>\n",
       "      <td>0</td>\n",
       "    </tr>\n",
       "    <tr>\n",
       "      <th>34</th>\n",
       "      <td>How do I create a role for AWS using the CredentialsRequest CR?\\n</td>\n",
       "      <td>rosa-docs-logging</td>\n",
       "      <td>rosa_architecture, aws-secrets-manager-csi-_index, rosa_planning, authentication, ecr-secret-operator-iam_assume_role</td>\n",
       "      <td>rosa_architecture, aws-secrets-manager-csi-_index, rosa_planning, authentication, ecr-secret-operator-iam_assume_role</td>\n",
       "      <td>5</td>\n",
       "      <td>5</td>\n",
       "      <td>0</td>\n",
       "      <td>0</td>\n",
       "    </tr>\n",
       "    <tr>\n",
       "      <th>45</th>\n",
       "      <td>What is the purpose of a security group?\\n\\n</td>\n",
       "      <td>rosa-docs-rosa_install_access_delete_clusters</td>\n",
       "      <td>authentication, rosa_architecture</td>\n",
       "      <td>authentication, rosa_architecture</td>\n",
       "      <td>2</td>\n",
       "      <td>2</td>\n",
       "      <td>0</td>\n",
       "      <td>0</td>\n",
       "    </tr>\n",
       "    <tr>\n",
       "      <th>49</th>\n",
       "      <td>What is the purpose of the MasterSecurityGroup?\\n</td>\n",
       "      <td>rosa-docs-rosa_install_access_delete_clusters</td>\n",
       "      <td>authentication, rosa_architecture</td>\n",
       "      <td>authentication, rosa_architecture</td>\n",
       "      <td>2</td>\n",
       "      <td>2</td>\n",
       "      <td>0</td>\n",
       "      <td>0</td>\n",
       "    </tr>\n",
       "    <tr>\n",
       "      <th>52</th>\n",
       "      <td>What is the purpose of the port range used to control egress traffic from the master nodes?\\n</td>\n",
       "      <td>rosa-docs-rosa_install_access_delete_clusters</td>\n",
       "      <td>networking, rosa_architecture, rosa_planning, service_mesh, rosa-asea-landing-zone-index</td>\n",
       "      <td>networking, rosa_architecture, rosa_planning, service_mesh, rosa-asea-landing-zone-index</td>\n",
       "      <td>5</td>\n",
       "      <td>5</td>\n",
       "      <td>0</td>\n",
       "      <td>0</td>\n",
       "    </tr>\n",
       "  </tbody>\n",
       "</table>\n",
       "</div>"
      ],
      "text/plain": [
       "                                                                                                  Question  \\\n",
       "33  How do I create an AWS service account for clusters with AWS Security Token Service (STS) enabled?\\n\\n   \n",
       "34                                       How do I create a role for AWS using the CredentialsRequest CR?\\n   \n",
       "45                                                            What is the purpose of a security group?\\n\\n   \n",
       "49                                                       What is the purpose of the MasterSecurityGroup?\\n   \n",
       "52           What is the purpose of the port range used to control egress traffic from the master nodes?\\n   \n",
       "\n",
       "                                           Source  \\\n",
       "33                              rosa-docs-logging   \n",
       "34                              rosa-docs-logging   \n",
       "45  rosa-docs-rosa_install_access_delete_clusters   \n",
       "49  rosa-docs-rosa_install_access_delete_clusters   \n",
       "52  rosa-docs-rosa_install_access_delete_clusters   \n",
       "\n",
       "                                                                                                   source_similarity_search  \\\n",
       "33  authentication, ecr-secret-operator-iam_assume_role, using-sts-with-aws-services-_index, aws-secrets-manager-csi-_index   \n",
       "34    rosa_architecture, aws-secrets-manager-csi-_index, rosa_planning, authentication, ecr-secret-operator-iam_assume_role   \n",
       "45                                                                                        authentication, rosa_architecture   \n",
       "49                                                                                        authentication, rosa_architecture   \n",
       "52                                 networking, rosa_architecture, rosa_planning, service_mesh, rosa-asea-landing-zone-index   \n",
       "\n",
       "                                                                                                  source_ensemble_retriever  \\\n",
       "33  authentication, ecr-secret-operator-iam_assume_role, using-sts-with-aws-services-_index, aws-secrets-manager-csi-_index   \n",
       "34    rosa_architecture, aws-secrets-manager-csi-_index, rosa_planning, authentication, ecr-secret-operator-iam_assume_role   \n",
       "45                                                                                        authentication, rosa_architecture   \n",
       "49                                                                                        authentication, rosa_architecture   \n",
       "52                                 networking, rosa_architecture, rosa_planning, service_mesh, rosa-asea-landing-zone-index   \n",
       "\n",
       "    Number_of_sources_from_similarity_search  \\\n",
       "33                                         4   \n",
       "34                                         5   \n",
       "45                                         2   \n",
       "49                                         2   \n",
       "52                                         5   \n",
       "\n",
       "    Number_of_sources_from_ensemble_retriever  \\\n",
       "33                                          4   \n",
       "34                                          5   \n",
       "45                                          2   \n",
       "49                                          2   \n",
       "52                                          5   \n",
       "\n",
       "    Match_in_source_similarity_search  Match_in_source_ensemble_retriever  \n",
       "33                                  0                                   0  \n",
       "34                                  0                                   0  \n",
       "45                                  0                                   0  \n",
       "49                                  0                                   0  \n",
       "52                                  0                                   0  "
      ]
     },
     "execution_count": 31,
     "metadata": {},
     "output_type": "execute_result"
    }
   ],
   "source": [
    "df[df.Match_in_source_similarity_search==0].head()"
   ]
  },
  {
   "cell_type": "markdown",
   "metadata": {},
   "source": [
    "**Cases when there is no match in Ensemble retriever**"
   ]
  },
  {
   "cell_type": "code",
   "execution_count": 32,
   "metadata": {},
   "outputs": [
    {
     "data": {
      "text/html": [
       "<div>\n",
       "<style scoped>\n",
       "    .dataframe tbody tr th:only-of-type {\n",
       "        vertical-align: middle;\n",
       "    }\n",
       "\n",
       "    .dataframe tbody tr th {\n",
       "        vertical-align: top;\n",
       "    }\n",
       "\n",
       "    .dataframe thead th {\n",
       "        text-align: right;\n",
       "    }\n",
       "</style>\n",
       "<table border=\"1\" class=\"dataframe\">\n",
       "  <thead>\n",
       "    <tr style=\"text-align: right;\">\n",
       "      <th></th>\n",
       "      <th>Question</th>\n",
       "      <th>Source</th>\n",
       "      <th>source_similarity_search</th>\n",
       "      <th>source_ensemble_retriever</th>\n",
       "      <th>Number_of_sources_from_similarity_search</th>\n",
       "      <th>Number_of_sources_from_ensemble_retriever</th>\n",
       "      <th>Match_in_source_similarity_search</th>\n",
       "      <th>Match_in_source_ensemble_retriever</th>\n",
       "    </tr>\n",
       "  </thead>\n",
       "  <tbody>\n",
       "    <tr>\n",
       "      <th>33</th>\n",
       "      <td>How do I create an AWS service account for clusters with AWS Security Token Service (STS) enabled?\\n\\n</td>\n",
       "      <td>rosa-docs-logging</td>\n",
       "      <td>authentication, ecr-secret-operator-iam_assume_role, using-sts-with-aws-services-_index, aws-secrets-manager-csi-_index</td>\n",
       "      <td>authentication, ecr-secret-operator-iam_assume_role, using-sts-with-aws-services-_index, aws-secrets-manager-csi-_index</td>\n",
       "      <td>4</td>\n",
       "      <td>4</td>\n",
       "      <td>0</td>\n",
       "      <td>0</td>\n",
       "    </tr>\n",
       "    <tr>\n",
       "      <th>34</th>\n",
       "      <td>How do I create a role for AWS using the CredentialsRequest CR?\\n</td>\n",
       "      <td>rosa-docs-logging</td>\n",
       "      <td>rosa_architecture, aws-secrets-manager-csi-_index, rosa_planning, authentication, ecr-secret-operator-iam_assume_role</td>\n",
       "      <td>rosa_architecture, aws-secrets-manager-csi-_index, rosa_planning, authentication, ecr-secret-operator-iam_assume_role</td>\n",
       "      <td>5</td>\n",
       "      <td>5</td>\n",
       "      <td>0</td>\n",
       "      <td>0</td>\n",
       "    </tr>\n",
       "    <tr>\n",
       "      <th>45</th>\n",
       "      <td>What is the purpose of a security group?\\n\\n</td>\n",
       "      <td>rosa-docs-rosa_install_access_delete_clusters</td>\n",
       "      <td>authentication, rosa_architecture</td>\n",
       "      <td>authentication, rosa_architecture</td>\n",
       "      <td>2</td>\n",
       "      <td>2</td>\n",
       "      <td>0</td>\n",
       "      <td>0</td>\n",
       "    </tr>\n",
       "    <tr>\n",
       "      <th>49</th>\n",
       "      <td>What is the purpose of the MasterSecurityGroup?\\n</td>\n",
       "      <td>rosa-docs-rosa_install_access_delete_clusters</td>\n",
       "      <td>authentication, rosa_architecture</td>\n",
       "      <td>authentication, rosa_architecture</td>\n",
       "      <td>2</td>\n",
       "      <td>2</td>\n",
       "      <td>0</td>\n",
       "      <td>0</td>\n",
       "    </tr>\n",
       "    <tr>\n",
       "      <th>52</th>\n",
       "      <td>What is the purpose of the port range used to control egress traffic from the master nodes?\\n</td>\n",
       "      <td>rosa-docs-rosa_install_access_delete_clusters</td>\n",
       "      <td>networking, rosa_architecture, rosa_planning, service_mesh, rosa-asea-landing-zone-index</td>\n",
       "      <td>networking, rosa_architecture, rosa_planning, service_mesh, rosa-asea-landing-zone-index</td>\n",
       "      <td>5</td>\n",
       "      <td>5</td>\n",
       "      <td>0</td>\n",
       "      <td>0</td>\n",
       "    </tr>\n",
       "  </tbody>\n",
       "</table>\n",
       "</div>"
      ],
      "text/plain": [
       "                                                                                                  Question  \\\n",
       "33  How do I create an AWS service account for clusters with AWS Security Token Service (STS) enabled?\\n\\n   \n",
       "34                                       How do I create a role for AWS using the CredentialsRequest CR?\\n   \n",
       "45                                                            What is the purpose of a security group?\\n\\n   \n",
       "49                                                       What is the purpose of the MasterSecurityGroup?\\n   \n",
       "52           What is the purpose of the port range used to control egress traffic from the master nodes?\\n   \n",
       "\n",
       "                                           Source  \\\n",
       "33                              rosa-docs-logging   \n",
       "34                              rosa-docs-logging   \n",
       "45  rosa-docs-rosa_install_access_delete_clusters   \n",
       "49  rosa-docs-rosa_install_access_delete_clusters   \n",
       "52  rosa-docs-rosa_install_access_delete_clusters   \n",
       "\n",
       "                                                                                                   source_similarity_search  \\\n",
       "33  authentication, ecr-secret-operator-iam_assume_role, using-sts-with-aws-services-_index, aws-secrets-manager-csi-_index   \n",
       "34    rosa_architecture, aws-secrets-manager-csi-_index, rosa_planning, authentication, ecr-secret-operator-iam_assume_role   \n",
       "45                                                                                        authentication, rosa_architecture   \n",
       "49                                                                                        authentication, rosa_architecture   \n",
       "52                                 networking, rosa_architecture, rosa_planning, service_mesh, rosa-asea-landing-zone-index   \n",
       "\n",
       "                                                                                                  source_ensemble_retriever  \\\n",
       "33  authentication, ecr-secret-operator-iam_assume_role, using-sts-with-aws-services-_index, aws-secrets-manager-csi-_index   \n",
       "34    rosa_architecture, aws-secrets-manager-csi-_index, rosa_planning, authentication, ecr-secret-operator-iam_assume_role   \n",
       "45                                                                                        authentication, rosa_architecture   \n",
       "49                                                                                        authentication, rosa_architecture   \n",
       "52                                 networking, rosa_architecture, rosa_planning, service_mesh, rosa-asea-landing-zone-index   \n",
       "\n",
       "    Number_of_sources_from_similarity_search  \\\n",
       "33                                         4   \n",
       "34                                         5   \n",
       "45                                         2   \n",
       "49                                         2   \n",
       "52                                         5   \n",
       "\n",
       "    Number_of_sources_from_ensemble_retriever  \\\n",
       "33                                          4   \n",
       "34                                          5   \n",
       "45                                          2   \n",
       "49                                          2   \n",
       "52                                          5   \n",
       "\n",
       "    Match_in_source_similarity_search  Match_in_source_ensemble_retriever  \n",
       "33                                  0                                   0  \n",
       "34                                  0                                   0  \n",
       "45                                  0                                   0  \n",
       "49                                  0                                   0  \n",
       "52                                  0                                   0  "
      ]
     },
     "execution_count": 32,
     "metadata": {},
     "output_type": "execute_result"
    }
   ],
   "source": [
    "df[df.Match_in_source_ensemble_retriever==0].head()"
   ]
  },
  {
   "cell_type": "markdown",
   "metadata": {},
   "source": [
    "**Cases when there is no match from similarity search but there is match from ensemble retriever**"
   ]
  },
  {
   "cell_type": "code",
   "execution_count": 33,
   "metadata": {},
   "outputs": [
    {
     "data": {
      "text/html": [
       "<div>\n",
       "<style scoped>\n",
       "    .dataframe tbody tr th:only-of-type {\n",
       "        vertical-align: middle;\n",
       "    }\n",
       "\n",
       "    .dataframe tbody tr th {\n",
       "        vertical-align: top;\n",
       "    }\n",
       "\n",
       "    .dataframe thead th {\n",
       "        text-align: right;\n",
       "    }\n",
       "</style>\n",
       "<table border=\"1\" class=\"dataframe\">\n",
       "  <thead>\n",
       "    <tr style=\"text-align: right;\">\n",
       "      <th></th>\n",
       "      <th>Question</th>\n",
       "      <th>Source</th>\n",
       "      <th>source_similarity_search</th>\n",
       "      <th>source_ensemble_retriever</th>\n",
       "      <th>Number_of_sources_from_similarity_search</th>\n",
       "      <th>Number_of_sources_from_ensemble_retriever</th>\n",
       "      <th>Match_in_source_similarity_search</th>\n",
       "      <th>Match_in_source_ensemble_retriever</th>\n",
       "    </tr>\n",
       "  </thead>\n",
       "  <tbody>\n",
       "  </tbody>\n",
       "</table>\n",
       "</div>"
      ],
      "text/plain": [
       "Empty DataFrame\n",
       "Columns: [Question, Source, source_similarity_search, source_ensemble_retriever, Number_of_sources_from_similarity_search, Number_of_sources_from_ensemble_retriever, Match_in_source_similarity_search, Match_in_source_ensemble_retriever]\n",
       "Index: []"
      ]
     },
     "execution_count": 33,
     "metadata": {},
     "output_type": "execute_result"
    }
   ],
   "source": [
    "df[(df.Match_in_source_similarity_search==0) & (df.Match_in_source_ensemble_retriever==1)].head()"
   ]
  },
  {
   "cell_type": "markdown",
   "metadata": {},
   "source": [
    "There is no such cases."
   ]
  },
  {
   "cell_type": "markdown",
   "metadata": {},
   "source": [
    "**Cases when there is no match from ensemble retriever but there is match from similarity search**"
   ]
  },
  {
   "cell_type": "code",
   "execution_count": 34,
   "metadata": {},
   "outputs": [
    {
     "data": {
      "text/html": [
       "<div>\n",
       "<style scoped>\n",
       "    .dataframe tbody tr th:only-of-type {\n",
       "        vertical-align: middle;\n",
       "    }\n",
       "\n",
       "    .dataframe tbody tr th {\n",
       "        vertical-align: top;\n",
       "    }\n",
       "\n",
       "    .dataframe thead th {\n",
       "        text-align: right;\n",
       "    }\n",
       "</style>\n",
       "<table border=\"1\" class=\"dataframe\">\n",
       "  <thead>\n",
       "    <tr style=\"text-align: right;\">\n",
       "      <th></th>\n",
       "      <th>Question</th>\n",
       "      <th>Source</th>\n",
       "      <th>source_similarity_search</th>\n",
       "      <th>source_ensemble_retriever</th>\n",
       "      <th>Number_of_sources_from_similarity_search</th>\n",
       "      <th>Number_of_sources_from_ensemble_retriever</th>\n",
       "      <th>Match_in_source_similarity_search</th>\n",
       "      <th>Match_in_source_ensemble_retriever</th>\n",
       "    </tr>\n",
       "  </thead>\n",
       "  <tbody>\n",
       "    <tr>\n",
       "      <th>451</th>\n",
       "      <td>What is an Issuer URL?\\n</td>\n",
       "      <td>rosa-docs-rosa_install_access_delete_clusters</td>\n",
       "      <td>rosa_install_access_delete_clusters, rosa_planning</td>\n",
       "      <td>rosa_planning</td>\n",
       "      <td>2</td>\n",
       "      <td>1</td>\n",
       "      <td>1</td>\n",
       "      <td>0</td>\n",
       "    </tr>\n",
       "    <tr>\n",
       "      <th>765</th>\n",
       "      <td>What are the domains used for?\\n</td>\n",
       "      <td>rosa-docs-rosa_install_access_delete_clusters</td>\n",
       "      <td>rosa_install_access_delete_clusters, serverless, rosa_planning</td>\n",
       "      <td>serverless, rosa_planning</td>\n",
       "      <td>3</td>\n",
       "      <td>2</td>\n",
       "      <td>1</td>\n",
       "      <td>0</td>\n",
       "    </tr>\n",
       "    <tr>\n",
       "      <th>805</th>\n",
       "      <td>What is a domain address?\\n</td>\n",
       "      <td>rosa-docs-rosa_install_access_delete_clusters</td>\n",
       "      <td>rosa_install_access_delete_clusters, rosa_planning</td>\n",
       "      <td>rosa_planning</td>\n",
       "      <td>2</td>\n",
       "      <td>1</td>\n",
       "      <td>1</td>\n",
       "      <td>0</td>\n",
       "    </tr>\n",
       "    <tr>\n",
       "      <th>1130</th>\n",
       "      <td>What is the purpose of using wildcard entries in an allowlist?\\n</td>\n",
       "      <td>rosa-docs-rosa_install_access_delete_clusters</td>\n",
       "      <td>rosa_install_access_delete_clusters, service_mesh, networking, rosa_planning</td>\n",
       "      <td>networking, service_mesh, rosa_planning</td>\n",
       "      <td>4</td>\n",
       "      <td>3</td>\n",
       "      <td>1</td>\n",
       "      <td>0</td>\n",
       "    </tr>\n",
       "    <tr>\n",
       "      <th>1134</th>\n",
       "      <td>What is the purpose of allowing the Amazon Web Services (AWS) API URls?\\n</td>\n",
       "      <td>rosa-docs-rosa_install_access_delete_clusters</td>\n",
       "      <td>rosa_install_access_delete_clusters, service_mesh, rosa_planning</td>\n",
       "      <td>service_mesh, rosa_planning</td>\n",
       "      <td>3</td>\n",
       "      <td>2</td>\n",
       "      <td>1</td>\n",
       "      <td>0</td>\n",
       "    </tr>\n",
       "  </tbody>\n",
       "</table>\n",
       "</div>"
      ],
      "text/plain": [
       "                                                                       Question  \\\n",
       "451                                                    What is an Issuer URL?\\n   \n",
       "765                                            What are the domains used for?\\n   \n",
       "805                                                 What is a domain address?\\n   \n",
       "1130           What is the purpose of using wildcard entries in an allowlist?\\n   \n",
       "1134  What is the purpose of allowing the Amazon Web Services (AWS) API URls?\\n   \n",
       "\n",
       "                                             Source  \\\n",
       "451   rosa-docs-rosa_install_access_delete_clusters   \n",
       "765   rosa-docs-rosa_install_access_delete_clusters   \n",
       "805   rosa-docs-rosa_install_access_delete_clusters   \n",
       "1130  rosa-docs-rosa_install_access_delete_clusters   \n",
       "1134  rosa-docs-rosa_install_access_delete_clusters   \n",
       "\n",
       "                                                          source_similarity_search  \\\n",
       "451                             rosa_install_access_delete_clusters, rosa_planning   \n",
       "765                 rosa_install_access_delete_clusters, serverless, rosa_planning   \n",
       "805                             rosa_install_access_delete_clusters, rosa_planning   \n",
       "1130  rosa_install_access_delete_clusters, service_mesh, networking, rosa_planning   \n",
       "1134              rosa_install_access_delete_clusters, service_mesh, rosa_planning   \n",
       "\n",
       "                    source_ensemble_retriever  \\\n",
       "451                             rosa_planning   \n",
       "765                 serverless, rosa_planning   \n",
       "805                             rosa_planning   \n",
       "1130  networking, service_mesh, rosa_planning   \n",
       "1134              service_mesh, rosa_planning   \n",
       "\n",
       "      Number_of_sources_from_similarity_search  \\\n",
       "451                                          2   \n",
       "765                                          3   \n",
       "805                                          2   \n",
       "1130                                         4   \n",
       "1134                                         3   \n",
       "\n",
       "      Number_of_sources_from_ensemble_retriever  \\\n",
       "451                                           1   \n",
       "765                                           2   \n",
       "805                                           1   \n",
       "1130                                          3   \n",
       "1134                                          2   \n",
       "\n",
       "      Match_in_source_similarity_search  Match_in_source_ensemble_retriever  \n",
       "451                                   1                                   0  \n",
       "765                                   1                                   0  \n",
       "805                                   1                                   0  \n",
       "1130                                  1                                   0  \n",
       "1134                                  1                                   0  "
      ]
     },
     "execution_count": 34,
     "metadata": {},
     "output_type": "execute_result"
    }
   ],
   "source": [
    "df[(df.Match_in_source_similarity_search==1) & (df.Match_in_source_ensemble_retriever==0)].head()"
   ]
  },
  {
   "cell_type": "code",
   "execution_count": 35,
   "metadata": {},
   "outputs": [],
   "source": [
    "df1 = df[(df.Match_in_source_similarity_search==1) & (df.Match_in_source_ensemble_retriever==0)]"
   ]
  },
  {
   "cell_type": "code",
   "execution_count": 38,
   "metadata": {},
   "outputs": [
    {
     "data": {
      "text/plain": [
       "13"
      ]
     },
     "execution_count": 38,
     "metadata": {},
     "output_type": "execute_result"
    }
   ],
   "source": [
    "df1.Question.nunique()"
   ]
  },
  {
   "cell_type": "markdown",
   "metadata": {},
   "source": [
    "There are 13 such cases where there is a match from similarity search but not from ensemble search."
   ]
  },
  {
   "cell_type": "code",
   "execution_count": 47,
   "metadata": {},
   "outputs": [
    {
     "data": {
      "text/plain": [
       "2.515079365079365"
      ]
     },
     "execution_count": 47,
     "metadata": {},
     "output_type": "execute_result"
    }
   ],
   "source": [
    "df.Number_of_sources_from_ensemble_retriever.mean()"
   ]
  },
  {
   "cell_type": "code",
   "execution_count": 48,
   "metadata": {},
   "outputs": [
    {
     "data": {
      "text/plain": [
       "2.534656084656085"
      ]
     },
     "execution_count": 48,
     "metadata": {},
     "output_type": "execute_result"
    }
   ],
   "source": [
    "df.Number_of_sources_from_similarity_search.mean()"
   ]
  },
  {
   "cell_type": "markdown",
   "metadata": {},
   "source": [
    "# Conclusion"
   ]
  },
  {
   "cell_type": "markdown",
   "metadata": {},
   "source": [
    "- **Total Unique Queries:**\n",
    "In our study, we analyzed a total of 6212 unique queries related to various topics.\n",
    "\n",
    "- **Similarity Search vs. Ensemble Retriever:**\n",
    "    - Percentage Match from Similarity Search: The similarity search demonstrated a match percentage of 69.97%, indicating its effectiveness in retrieving relevant information from the source documents.\n",
    "    - Percentage Match from Ensemble Retriever: The ensemble retriever closely followed with a match percentage of 69.78%, showcasing comparable performance.\n",
    "\n",
    "\n",
    "- **Cases with Match Discrepancy:**\n",
    "\n",
    "    - **Cases with Match in Similarity Search but Not in Ensemble Retriever:** We identified 13 queries where there was a match in the similarity search but not in the ensemble retriever.\n",
    "\n",
    "- **Average Number of Sources Retrieved:**\n",
    "\n",
    "    - **Average Number of Sources from Ensemble Retriever:** The ensemble retriever, on average, retrieved information from 2.515 sources per query.\n",
    "    - **Average Number of Sources from Similarity Search:** Similarly, the similarity search had an average retrieval of information from 2.534 sources per query.\n"
   ]
  },
  {
   "cell_type": "markdown",
   "metadata": {},
   "source": [
    "Despite the effectiveness demonstrated by both the similarity search and ensemble retriever in matching relevant information, our study reveals that they collectively achieved a match percentage of 69% out of the total 6212 unique queries. While this signifies a substantial success in retrieving pertinent details, it also underscores the presence of opportunities for improvement. Identifying areas that contribute to the remaining 31% without a match could be crucial for enhancing the performance of the search algorithms."
   ]
  }
 ],
 "metadata": {
  "kernelspec": {
   "display_name": "Python 3.9",
   "language": "python",
   "name": "python3"
  },
  "language_info": {
   "codemirror_mode": {
    "name": "ipython",
    "version": 3
   },
   "file_extension": ".py",
   "mimetype": "text/x-python",
   "name": "python",
   "nbconvert_exporter": "python",
   "pygments_lexer": "ipython3",
   "version": "3.9.16"
  },
  "vscode": {
   "interpreter": {
    "hash": "dfef540ac477f3be91e5308acd671ac2a81f2c8cc1125947821b3502f71b441e"
   }
  }
 },
 "nbformat": 4,
 "nbformat_minor": 4
}
