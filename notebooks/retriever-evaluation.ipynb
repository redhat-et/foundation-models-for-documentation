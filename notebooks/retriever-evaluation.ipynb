{
 "cells": [
  {
   "cell_type": "markdown",
   "metadata": {},
   "source": [
    "# Document Retrieval"
   ]
  },
  {
   "cell_type": "markdown",
   "metadata": {},
   "source": [
    "\n",
    "Retrieval-Augmented Generation (RAG) is a cutting-edge natural language processing paradigm that combines aspects of both information retrieval and language generation. In the RAG framework, a pre-trained language model, often a large transformer model, is augmented with a retrieval component. This retrieval mechanism allows the model to access external knowledge by retrieving relevant information from a set of source documents based on the input query. The integration of retrieval into the generation process enhances the model's contextual understanding and enables it to generate more informed and contextually relevant responses.\n",
    "\n",
    "The RAG pattern involves two main phases: Retrieval and Augmented Generation. During Retrieval, the model identifies and retrieves pertinent information from the source documents. Subsequently, in the Augmented Generation phase, the retrieved content is utilized to enrich the generation of language, resulting in more contextually aware and coherent responses.\n",
    "\n",
    "Evaluating RAG involves assessing the effectiveness of both the Retrieval and Augmented Generation components independently. In this notebook, the focus is specifically on evaluating the Retrieval part of RAG. The analysis centers on comparing two retrieval methods—similarity search and ensemble retrieval—using a source document associated with a given query. This exploration aims to provide insights into the performance and effectiveness of these retrieval techniques within the broader context of RAG pattern search."
   ]
  },
  {
   "cell_type": "code",
   "execution_count": 1,
   "metadata": {},
   "outputs": [],
   "source": [
    "__import__('pysqlite3')\n",
    "import sys\n",
    "sys.modules['sqlite3'] = sys.modules.pop('pysqlite3')\n",
    "import os\n",
    "from langchain.document_loaders import DirectoryLoader, TextLoader\n",
    "from langchain.embeddings import HuggingFaceEmbeddings\n",
    "from langchain.text_splitter import MarkdownTextSplitter\n",
    "from langchain.vectorstores import Chroma, FAISS\n",
    "from langchain.retrievers import BM25Retriever, EnsembleRetriever\n",
    "import pandas as pd\n",
    "from tqdm import tqdm\n",
    "\n",
    "pd.set_option('display.max_colwidth', None)"
   ]
  },
  {
   "cell_type": "code",
   "execution_count": 2,
   "metadata": {},
   "outputs": [],
   "source": [
    "def ensemble_retriever_retrieval(query, ensemble_retriever):\n",
    "    docs = ensemble_retriever.get_relevant_documents(query)\n",
    "    sources = [doc.metadata.get('source') for doc in docs if 'source' in doc.metadata]\n",
    "    return sources"
   ]
  },
  {
   "cell_type": "code",
   "execution_count": 3,
   "metadata": {},
   "outputs": [],
   "source": [
    "# Load documents \n",
    "loader = DirectoryLoader('../data/external', glob=\"**/*.md\", loader_cls=TextLoader)\n",
    "documents = loader.load()\n",
    "text_splitter = MarkdownTextSplitter(chunk_overlap=0)\n",
    "texts = text_splitter.split_documents(documents)\n",
    "\n",
    "text_content = [doc.page_content if hasattr(doc, 'page_content') else doc.content for doc in texts]"
   ]
  },
  {
   "cell_type": "code",
   "execution_count": 4,
   "metadata": {},
   "outputs": [],
   "source": [
    "# Embeddings\n",
    "embeddings = HuggingFaceEmbeddings()\n",
    "faiss_vectorstore = FAISS.from_documents(texts, embeddings)\n",
    "faiss_retriever = faiss_vectorstore.as_retriever(search_kwargs={\"k\": 5})\n",
    "bm25_retriever = BM25Retriever.from_texts(text_content)\n",
    "bm25_retriever.k = 5"
   ]
  },
  {
   "cell_type": "markdown",
   "metadata": {},
   "source": [
    "In the first case, represented by bm_25, an EnsembleRetriever combines retrievals from bm25_retriever with full emphasis (weight 1) and completely disregards contributions from faiss_retriever (weight 0). In the second case, denoted as faiss_ret, the emphasis is inverted, assigning weight 1 to faiss_retriever and weight 0 to bm25_retriever. This prioritizes results from the Faiss retriever exclusively. In the third case, ensemble_ret, both retrievers contribute equally (weights 0.5 each), resulting in a balanced ensemble that considers both BM25 and Faiss retrievers with equal influence on the final retrieval outcomes."
   ]
  },
  {
   "cell_type": "code",
   "execution_count": 5,
   "metadata": {},
   "outputs": [],
   "source": [
    "bm_25 = EnsembleRetriever(\n",
    "    retrievers=[bm25_retriever, faiss_retriever], weights=[1, 0]\n",
    ")\n",
    "\n",
    "faiss_ret= EnsembleRetriever(\n",
    "    retrievers=[bm25_retriever, faiss_retriever], weights=[0, 1]\n",
    ")\n",
    "\n",
    "ensemble_ret= EnsembleRetriever(\n",
    "    retrievers=[bm25_retriever, faiss_retriever], weights=[0.5, 0.5]\n",
    ")"
   ]
  },
  {
   "cell_type": "markdown",
   "metadata": {},
   "source": [
    "## Getting query from df"
   ]
  },
  {
   "cell_type": "code",
   "execution_count": 6,
   "metadata": {},
   "outputs": [],
   "source": [
    "df = pd.read_csv('../data/processed/validation_data.csv')[['Question']]\n",
    "df['Sources'] = '../data/external/rosaworkshop/14-faq.md'"
   ]
  },
  {
   "cell_type": "code",
   "execution_count": 7,
   "metadata": {},
   "outputs": [
    {
     "data": {
      "text/html": [
       "<div>\n",
       "<style scoped>\n",
       "    .dataframe tbody tr th:only-of-type {\n",
       "        vertical-align: middle;\n",
       "    }\n",
       "\n",
       "    .dataframe tbody tr th {\n",
       "        vertical-align: top;\n",
       "    }\n",
       "\n",
       "    .dataframe thead th {\n",
       "        text-align: right;\n",
       "    }\n",
       "</style>\n",
       "<table border=\"1\" class=\"dataframe\">\n",
       "  <thead>\n",
       "    <tr style=\"text-align: right;\">\n",
       "      <th></th>\n",
       "      <th>Question</th>\n",
       "      <th>Sources</th>\n",
       "    </tr>\n",
       "  </thead>\n",
       "  <tbody>\n",
       "    <tr>\n",
       "      <th>0</th>\n",
       "      <td>What is Red Hat OpenShift Service on AWS (ROSA)?</td>\n",
       "      <td>../data/external/rosaworkshop/14-faq.md</td>\n",
       "    </tr>\n",
       "    <tr>\n",
       "      <th>1</th>\n",
       "      <td>Where can I go to get more information/details?</td>\n",
       "      <td>../data/external/rosaworkshop/14-faq.md</td>\n",
       "    </tr>\n",
       "  </tbody>\n",
       "</table>\n",
       "</div>"
      ],
      "text/plain": [
       "                                           Question  \\\n",
       "0  What is Red Hat OpenShift Service on AWS (ROSA)?   \n",
       "1   Where can I go to get more information/details?   \n",
       "\n",
       "                                   Sources  \n",
       "0  ../data/external/rosaworkshop/14-faq.md  \n",
       "1  ../data/external/rosaworkshop/14-faq.md  "
      ]
     },
     "execution_count": 7,
     "metadata": {},
     "output_type": "execute_result"
    }
   ],
   "source": [
    "df.head(2)"
   ]
  },
  {
   "cell_type": "code",
   "execution_count": 8,
   "metadata": {},
   "outputs": [
    {
     "name": "stderr",
     "output_type": "stream",
     "text": [
      "65it [00:34,  1.89it/s]\n"
     ]
    }
   ],
   "source": [
    "# Iterate through rows in the DataFrame and retrieve sources\n",
    "for index, row in tqdm(df.iterrows()):\n",
    "    question = row['Question']\n",
    "\n",
    "    # Retrieve sources using bm_25\n",
    "    sources_bm25 = ensemble_retriever_retrieval(question, bm_25)\n",
    "    \n",
    "    # Retrieve sources using similarity search\n",
    "    source_Faiss_ret = ensemble_retriever_retrieval(question, faiss_ret)\n",
    "\n",
    "    # Retrieve sources using ensemble retriever\n",
    "    sources_ensemble_retriever = ensemble_retriever_retrieval(question, ensemble_ret)\n",
    "\n",
    "    # Update the DataFrame with the new columns\n",
    "    df.at[index, 'source_Faiss_ret'] = ', '.join(map(str, source_Faiss_ret))\n",
    "    df.at[index, 'source_bm25'] = ', '.join(map(str, sources_bm25))\n",
    "    df.at[index, 'source_ensemble_retriever'] = ', '.join(map(str, sources_ensemble_retriever))\n"
   ]
  },
  {
   "cell_type": "code",
   "execution_count": 9,
   "metadata": {},
   "outputs": [
    {
     "data": {
      "text/html": [
       "<div>\n",
       "<style scoped>\n",
       "    .dataframe tbody tr th:only-of-type {\n",
       "        vertical-align: middle;\n",
       "    }\n",
       "\n",
       "    .dataframe tbody tr th {\n",
       "        vertical-align: top;\n",
       "    }\n",
       "\n",
       "    .dataframe thead th {\n",
       "        text-align: right;\n",
       "    }\n",
       "</style>\n",
       "<table border=\"1\" class=\"dataframe\">\n",
       "  <thead>\n",
       "    <tr style=\"text-align: right;\">\n",
       "      <th></th>\n",
       "      <th>Question</th>\n",
       "      <th>Sources</th>\n",
       "      <th>source_Faiss_ret</th>\n",
       "      <th>source_bm25</th>\n",
       "      <th>source_ensemble_retriever</th>\n",
       "    </tr>\n",
       "  </thead>\n",
       "  <tbody>\n",
       "    <tr>\n",
       "      <th>0</th>\n",
       "      <td>What is Red Hat OpenShift Service on AWS (ROSA)?</td>\n",
       "      <td>../data/external/rosaworkshop/14-faq.md</td>\n",
       "      <td>../data/external/rosaworkshop/14-faq.md, ../data/external/rosa-docs/rosa_architecture.md, ../data/external/rosaworkshop/14-faq.md, ../data/external/rh-mobb/_index.md, ../data/external/rosa-docs/welcome.md</td>\n",
       "      <td>../data/external/rosaworkshop/14-faq.md, ../data/external/rosa-docs/rosa_architecture.md, ../data/external/rosaworkshop/14-faq.md, ../data/external/rosa-docs/welcome.md, ../data/external/rh-mobb/_index.md</td>\n",
       "      <td>../data/external/rosaworkshop/14-faq.md, ../data/external/rosa-docs/rosa_architecture.md, ../data/external/rosaworkshop/14-faq.md, ../data/external/rh-mobb/_index.md, ../data/external/rosa-docs/welcome.md</td>\n",
       "    </tr>\n",
       "    <tr>\n",
       "      <th>1</th>\n",
       "      <td>Where can I go to get more information/details?</td>\n",
       "      <td>../data/external/rosaworkshop/14-faq.md</td>\n",
       "      <td>../data/external/rosa-docs/rosa_architecture.md, ../data/external/rosa-docs/rosa_architecture.md, ../data/external/rosa-docs/rosa_architecture.md, ../data/external/rosa-docs/rosa_architecture.md, ../data/external/rosaworkshop/14-faq.md</td>\n",
       "      <td>../data/external/rosaworkshop/14-faq.md, ../data/external/rosa-docs/rosa_architecture.md, ../data/external/rosa-docs/rosa_architecture.md, ../data/external/rosa-docs/rosa_architecture.md, ../data/external/rosa-docs/rosa_architecture.md</td>\n",
       "      <td>../data/external/rosaworkshop/14-faq.md, ../data/external/rosa-docs/rosa_architecture.md, ../data/external/rosa-docs/rosa_architecture.md, ../data/external/rosa-docs/rosa_architecture.md, ../data/external/rosa-docs/rosa_architecture.md</td>\n",
       "    </tr>\n",
       "  </tbody>\n",
       "</table>\n",
       "</div>"
      ],
      "text/plain": [
       "                                           Question  \\\n",
       "0  What is Red Hat OpenShift Service on AWS (ROSA)?   \n",
       "1   Where can I go to get more information/details?   \n",
       "\n",
       "                                   Sources  \\\n",
       "0  ../data/external/rosaworkshop/14-faq.md   \n",
       "1  ../data/external/rosaworkshop/14-faq.md   \n",
       "\n",
       "                                                                                                                                                                                                                              source_Faiss_ret  \\\n",
       "0                                 ../data/external/rosaworkshop/14-faq.md, ../data/external/rosa-docs/rosa_architecture.md, ../data/external/rosaworkshop/14-faq.md, ../data/external/rh-mobb/_index.md, ../data/external/rosa-docs/welcome.md   \n",
       "1  ../data/external/rosa-docs/rosa_architecture.md, ../data/external/rosa-docs/rosa_architecture.md, ../data/external/rosa-docs/rosa_architecture.md, ../data/external/rosa-docs/rosa_architecture.md, ../data/external/rosaworkshop/14-faq.md   \n",
       "\n",
       "                                                                                                                                                                                                                                   source_bm25  \\\n",
       "0                                 ../data/external/rosaworkshop/14-faq.md, ../data/external/rosa-docs/rosa_architecture.md, ../data/external/rosaworkshop/14-faq.md, ../data/external/rosa-docs/welcome.md, ../data/external/rh-mobb/_index.md   \n",
       "1  ../data/external/rosaworkshop/14-faq.md, ../data/external/rosa-docs/rosa_architecture.md, ../data/external/rosa-docs/rosa_architecture.md, ../data/external/rosa-docs/rosa_architecture.md, ../data/external/rosa-docs/rosa_architecture.md   \n",
       "\n",
       "                                                                                                                                                                                                                     source_ensemble_retriever  \n",
       "0                                 ../data/external/rosaworkshop/14-faq.md, ../data/external/rosa-docs/rosa_architecture.md, ../data/external/rosaworkshop/14-faq.md, ../data/external/rh-mobb/_index.md, ../data/external/rosa-docs/welcome.md  \n",
       "1  ../data/external/rosaworkshop/14-faq.md, ../data/external/rosa-docs/rosa_architecture.md, ../data/external/rosa-docs/rosa_architecture.md, ../data/external/rosa-docs/rosa_architecture.md, ../data/external/rosa-docs/rosa_architecture.md  "
      ]
     },
     "execution_count": 9,
     "metadata": {},
     "output_type": "execute_result"
    }
   ],
   "source": [
    "df = df[['Question','Sources','source_Faiss_ret', 'source_bm25','source_ensemble_retriever']]\n",
    "df.head(2)"
   ]
  },
  {
   "cell_type": "markdown",
   "metadata": {},
   "source": [
    "# Metrics for Evaluation"
   ]
  },
  {
   "cell_type": "markdown",
   "metadata": {},
   "source": [
    "In this segment, we will provide a concise overview of various metrics employed in the assessment of retrieval performance."
   ]
  },
  {
   "cell_type": "markdown",
   "metadata": {},
   "source": [
    "## Recall@K"
   ]
  },
  {
   "cell_type": "markdown",
   "metadata": {},
   "source": [
    "It measures the proportion of relevant items that were successfully recommended or retrieved within the top k items. \n",
    "\n",
    "\n",
    "$Recall@k = \\frac{Number\\:of\\:relevant\\:documents\\:retrieved\\:in\\:top\\:k}{Total\\:number\\:of\\:relevant\\:documents}$\n"
   ]
  },
  {
   "cell_type": "code",
   "execution_count": 10,
   "metadata": {},
   "outputs": [],
   "source": [
    "def recall(actual, predicted, k):\n",
    "    act_set = set([actual])\n",
    "    pred_set = set(predicted[:k])\n",
    "    if len(act_set & pred_set) == 0:\n",
    "        return 0\n",
    "    result = round(len(act_set & pred_set) / float(len(act_set)), 2)\n",
    "    return result"
   ]
  },
  {
   "cell_type": "code",
   "execution_count": 11,
   "metadata": {},
   "outputs": [
    {
     "name": "stdout",
     "output_type": "stream",
     "text": [
      "Recall@5 : 1.0\n"
     ]
    }
   ],
   "source": [
    "actual = \"apple\"\n",
    "predicted = \"banana\",\"apple\",\"orange\",\"grape\", \"apple\"\n",
    "\n",
    "recall_5 = recall(actual, predicted, 5)\n",
    "\n",
    "print(f\"Recall@5 : {recall_5}\")"
   ]
  },
  {
   "cell_type": "markdown",
   "metadata": {},
   "source": [
    "In this example, we are evaluating a retrieval system's performance. The system has generated a list of 5 predicted fruit names, and among them, \"apple\" is considered relevant. The task is to calculate Recall@5, which assesses how well the system captures the relevant item within the top 5 recommendations. If Recall@5 is 1, it indicates that the recommendation system has successfully retrieved all relevant items within the top 5 recommendations. In other words, every item considered relevant is among the first 5 items suggested by the system."
   ]
  },
  {
   "cell_type": "markdown",
   "metadata": {},
   "source": [
    "**Pros:**\n",
    "\n",
    "- Easily interpretable metric.\n",
    "- A perfect score (1) indicates retrieval of all relevant items.\n",
    "- Sensitivity to the impact of smaller k values on system performance.\n",
    "\n",
    "**Cons:**\n",
    "\n",
    "- Increasing K can yield perfect scores, potentially misleading.\n",
    "- Doesn't consider the position of relevant items in the ranking.\n",
    "- Cannot distinguish between returning a relevant result at rank one or rank four."
   ]
  },
  {
   "cell_type": "markdown",
   "metadata": {},
   "source": [
    "## Mean Reciprocal Rank\n",
    "\n",
    "Unlike recall@k, MRR (Mean Reciprocal Rank) actually takes the order of relevant items into consideration. It is particularly focused on the position of the first relevant item in the ranked list of results, providing a more fine-grained evaluation in the context of information retrieval systems.\n",
    "\n",
    "For each query, we calaulate the reciprocal rank, denoted by RR. It is considered as the inverse of the rank at which the first relevant items appear in the ranked list.\n",
    "\n",
    "$Reciprocal\\:Rank(RR) = \\frac{1}{Rank\\:of\\:the\\:first\\:relevant\\:item}$, the value is $0$ is no relevant item is found in the list.\n",
    "\n",
    "Then, calculate the average reciprocal rank across all queries. MRR provides the single aggregated measure of how well a system performs in placing the first relevant item in the ranked list.\n",
    "\n",
    "$MRR = \\frac{1stRR\\:+\\:2ndRR\\:+\\:3rdRR\\:+...}{Total\\:number\\:of\\:queries}$"
   ]
  },
  {
   "cell_type": "markdown",
   "metadata": {},
   "source": [
    "**Pros:**\n",
    "\n",
    "- MRR taking order in considerations, making it suitable for scenarios where the position of the first relevant result is crucial, such as chatbots or question-answering systems.\n",
    "\n",
    "**Cons:**\n",
    "\n",
    "- MRR considers only the rank of the first relevant item and ignores others, which may not be suitable for use cases involving the retrieval of multiple relevant items, as in recommendation or search engines.\n",
    "\n",
    "- In situations where multiple relevant items need to be returned (e.g., recommending ~10 products), MRR may yield a perfect score even if only one relevant item is returned in the top position, potentially masking the poor performance of returning other irrelevant items."
   ]
  },
  {
   "cell_type": "markdown",
   "metadata": {},
   "source": [
    "## Normalized Discounted Cumulative Gain (NDCG@k)\n",
    "\n",
    "Normalized Discounted Cumulative Gain (nDCG@K) is a metric commonly used in information retrieval and recommendation systems to evaluate the quality of ranked results. Unlike Recall@K, which focuses on the presence of relevant items in the top K recommendations, NDCG@K considers the relevance and the position of each relevant item in the entire ranked list, offering the normalized score between 0 and 1. \n",
    "\n",
    "$NDCG@K= \\frac{DCG@K}{IDCG@K}$ \n",
    "\n",
    "- **Discounted Cumulative Gain (DCG@K):** It evaluates the quality of the ranked list by considering both item relevance and position. It sums up the relevance scores with logarithmic discounting base don item position, prioritizing highly relevant items at the top. Higher DCG@K values indicate superior ranking.\n",
    "\n",
    "$DCG@K = \\sum_{k = 1}^K \\frac{rel_k}{log_2(1+k)}$\n",
    "\n",
    "- **Ideal Discounted Cumulative Gain (IDCG@K):** It represents the highest achievable DCG@K under perfect ranking conditions. In the ideal scenario, the items are arranged in descending order of relevance.\n",
    "\n",
    "$DCG@K = \\sum_{k = 1}^K \\frac{rel_ideal,k}{log_2(1+k)}$\n",
    "\n",
    "**How to calculate NDCG@K:\n",
    "\n",
    "We take an example lists:\n",
    "\n",
    "- Actual List: [\"Apple\", \"Banana\", \"Orange\"]\n",
    "- Retrieved List: [\"Banana\", \"Apple\", \"Orange\"] \n",
    "\n",
    "Now based on the actual list, we observe that \"Apple\" is the most relevant, whereas \"Orange\" is the least relevant. Hence, we will assign a relevance score to each depending upon their relevance.\n",
    "\n",
    "$Apple:2\\:,\\:Banana:1\\:,\\:Orange:0$ \n",
    "\n",
    "Using them, We calculate:\n",
    "\n",
    "$DCG@3 = \\frac{1}{log_2 (1+1)}+\\frac{2}{log_2 (1+2)}+\\frac{0}{log_2 (1+3)} = 2.26 $\n",
    "\n",
    "$IDCG@3 = \\frac{2}{log_2 (1+1)}+\\frac{1}{log_2 (1+2)}+\\frac{0}{log_2 (1+3)} = 2.63 $\n",
    "\n",
    "$NDCG@3 = \\frac{2.3}{2.6} = 0.86$"
   ]
  },
  {
   "cell_type": "markdown",
   "metadata": {},
   "source": [
    "Here is how we can implement the calculation with python code."
   ]
  },
  {
   "cell_type": "code",
   "execution_count": 12,
   "metadata": {},
   "outputs": [
    {
     "name": "stdout",
     "output_type": "stream",
     "text": [
      "Relevance Scores: [1, 2, 0]\n",
      "DCG@3: 2.26\n",
      "IDCG@3: 2.63\n",
      "NDCG@3: 0.86\n"
     ]
    }
   ],
   "source": [
    "from math import log2\n",
    "\n",
    "'''\n",
    "Considering our retrieved list is [\"Banana\", \"Apple\", \"Orange\"]. Based on relevance score of each item:\n",
    "'''\n",
    "\n",
    "# Given relevance scores\n",
    "relevance = [1, 2, 0]\n",
    "\n",
    "#Number of retrieved list\n",
    "K = len(relevance)\n",
    "\n",
    "# Calculate DCG\n",
    "dcg = sum(rel_k / log2(1 + k) for k, rel_k in enumerate(relevance, 1))\n",
    "\n",
    "# Sort items in 'relevance' from most relevant to less relevant for IDCG\n",
    "ideal_relevance = sorted(relevance, reverse=True)\n",
    "\n",
    "# Calculate IDCG\n",
    "idcg = sum(rel_k / log2(1 + k) for k, rel_k in enumerate(ideal_relevance, 1))\n",
    "\n",
    "# Calculate NDCG\n",
    "ndcg = dcg / idcg if idcg != 0 else 0\n",
    "\n",
    "print(f\"Relevance Scores: {relevance}\")\n",
    "print(f\"DCG@{K}: {dcg:.2f}\")\n",
    "print(f\"IDCG@{K}: {idcg:.2f}\")\n",
    "print(f\"NDCG@{K}: {ndcg:.2f}\")"
   ]
  },
  {
   "cell_type": "markdown",
   "metadata": {},
   "source": [
    "In the context of NDCG@K, where 1.0 represents a perfect ranking (IDCG@K), a score of 0.86 suggests that the retrieval system is performing quite well."
   ]
  },
  {
   "cell_type": "markdown",
   "metadata": {},
   "source": [
    "**Pros of NDCG@K:**\n",
    "\n",
    "- **Relevance Optimization:** Emphasizes highly relevant document ranking for better user satisfaction.\n",
    "\n",
    "- **Order-Awareness:** Considers both relevance and order, capturing the importance of document position.\n",
    "\n",
    "- **Interpretable Score:** Easily understandable score (0 to 1), facilitating quick system assessment.\n",
    "\n",
    "**Cons of NDCG@K:**\n",
    "\n",
    "- **Data Labeling Complexity:** Requires well-labeled data with detailed relevance and relative importance information.\n",
    "\n",
    "- **Subjectivity in Ranking:** Introduces subjectivity in determining relative relevance."
   ]
  },
  {
   "cell_type": "markdown",
   "metadata": {},
   "source": [
    "# Data Analysis"
   ]
  },
  {
   "cell_type": "markdown",
   "metadata": {},
   "source": [
    "In this section, we will apply the metrics discussed above to evaluate our dataset. Due to insufficient labeling in our dataset, we will focus exclusively on utilizing Recall@K and the Mean Reciprocal Rank (MRR) metric for evaluation."
   ]
  },
  {
   "cell_type": "code",
   "execution_count": 13,
   "metadata": {},
   "outputs": [
    {
     "data": {
      "text/html": [
       "<div>\n",
       "<style scoped>\n",
       "    .dataframe tbody tr th:only-of-type {\n",
       "        vertical-align: middle;\n",
       "    }\n",
       "\n",
       "    .dataframe tbody tr th {\n",
       "        vertical-align: top;\n",
       "    }\n",
       "\n",
       "    .dataframe thead th {\n",
       "        text-align: right;\n",
       "    }\n",
       "</style>\n",
       "<table border=\"1\" class=\"dataframe\">\n",
       "  <thead>\n",
       "    <tr style=\"text-align: right;\">\n",
       "      <th></th>\n",
       "      <th>Question</th>\n",
       "      <th>Sources</th>\n",
       "      <th>source_Faiss_ret</th>\n",
       "      <th>source_bm25</th>\n",
       "      <th>source_ensemble_retriever</th>\n",
       "    </tr>\n",
       "  </thead>\n",
       "  <tbody>\n",
       "    <tr>\n",
       "      <th>0</th>\n",
       "      <td>What is Red Hat OpenShift Service on AWS (ROSA)?</td>\n",
       "      <td>../data/external/rosaworkshop/14-faq.md</td>\n",
       "      <td>../data/external/rosaworkshop/14-faq.md, ../data/external/rosa-docs/rosa_architecture.md, ../data/external/rosaworkshop/14-faq.md, ../data/external/rh-mobb/_index.md, ../data/external/rosa-docs/welcome.md</td>\n",
       "      <td>../data/external/rosaworkshop/14-faq.md, ../data/external/rosa-docs/rosa_architecture.md, ../data/external/rosaworkshop/14-faq.md, ../data/external/rosa-docs/welcome.md, ../data/external/rh-mobb/_index.md</td>\n",
       "      <td>../data/external/rosaworkshop/14-faq.md, ../data/external/rosa-docs/rosa_architecture.md, ../data/external/rosaworkshop/14-faq.md, ../data/external/rh-mobb/_index.md, ../data/external/rosa-docs/welcome.md</td>\n",
       "    </tr>\n",
       "  </tbody>\n",
       "</table>\n",
       "</div>"
      ],
      "text/plain": [
       "                                           Question  \\\n",
       "0  What is Red Hat OpenShift Service on AWS (ROSA)?   \n",
       "\n",
       "                                   Sources  \\\n",
       "0  ../data/external/rosaworkshop/14-faq.md   \n",
       "\n",
       "                                                                                                                                                                                               source_Faiss_ret  \\\n",
       "0  ../data/external/rosaworkshop/14-faq.md, ../data/external/rosa-docs/rosa_architecture.md, ../data/external/rosaworkshop/14-faq.md, ../data/external/rh-mobb/_index.md, ../data/external/rosa-docs/welcome.md   \n",
       "\n",
       "                                                                                                                                                                                                    source_bm25  \\\n",
       "0  ../data/external/rosaworkshop/14-faq.md, ../data/external/rosa-docs/rosa_architecture.md, ../data/external/rosaworkshop/14-faq.md, ../data/external/rosa-docs/welcome.md, ../data/external/rh-mobb/_index.md   \n",
       "\n",
       "                                                                                                                                                                                      source_ensemble_retriever  \n",
       "0  ../data/external/rosaworkshop/14-faq.md, ../data/external/rosa-docs/rosa_architecture.md, ../data/external/rosaworkshop/14-faq.md, ../data/external/rh-mobb/_index.md, ../data/external/rosa-docs/welcome.md  "
      ]
     },
     "execution_count": 13,
     "metadata": {},
     "output_type": "execute_result"
    }
   ],
   "source": [
    "df.head(1)"
   ]
  },
  {
   "cell_type": "code",
   "execution_count": 14,
   "metadata": {},
   "outputs": [],
   "source": [
    "# Define the recall and rank functions if not defined already\n",
    "def recall(actual, predicted, k):\n",
    "    act_set = set([actual])\n",
    "    pred_set = set(predicted[:k])\n",
    "    if len(act_set & pred_set) == 0:\n",
    "        return 0\n",
    "    result = round(len(act_set & pred_set) / float(len(act_set)), 2)\n",
    "    return result\n",
    "\n",
    "def rank(actual, predicted):\n",
    "    return predicted.index(actual) + 1 if actual in predicted else None\n",
    "\n",
    "# Loop over the rows\n",
    "for index, row in df.iterrows():\n",
    "    query = row['Question']\n",
    "    actual_source = row['Sources']\n",
    "    sources_faiss_ret = row['source_Faiss_ret'].split(', ')\n",
    "    sources_bm25 = row['source_bm25'].split(', ')\n",
    "    sources_ensemble = row['source_ensemble_retriever'].split(', ')\n",
    "\n",
    "    # Calculate Recall@5 and Rank@5 for source_Faiss_ret\n",
    "    recall_5_faiss_ret = recall(actual_source, sources_faiss_ret, 5)\n",
    "    rank_5_faiss_ret = rank(actual_source, sources_faiss_ret)\n",
    "\n",
    "    # Calculate Recall@5 and Rank@5 for source_bm25\n",
    "    recall_5_bm25 = recall(actual_source, sources_bm25, 5)\n",
    "    rank_5_bm25 = rank(actual_source, sources_bm25)\n",
    "\n",
    "    # Calculate Recall@5 and Rank@5 for source_ensemble_retriever\n",
    "    recall_5_ensemble = recall(actual_source, sources_ensemble, 5)\n",
    "    rank_5_ensemble = rank(actual_source, sources_ensemble)\n",
    "\n",
    "    # Add new columns to the DataFrame\n",
    "    df.at[index, 'Recall@5_source_Faiss_ret'] = recall_5_faiss_ret\n",
    "    df.at[index, 'Rank@5_source_Faiss_ret'] = rank_5_faiss_ret\n",
    "\n",
    "    df.at[index, 'Recall@5_source_bm25'] = recall_5_bm25\n",
    "    df.at[index, 'Rank@5_source_bm25'] = rank_5_bm25\n",
    "\n",
    "    df.at[index, 'Recall@5_source_ensemble_retriever'] = recall_5_ensemble\n",
    "    df.at[index, 'Rank@5_source_ensemble_retriever'] = rank_5_ensemble\n",
    "\n",
    "# Replace NaN values with 0 in the new columns\n",
    "df.fillna(0, inplace=True)"
   ]
  },
  {
   "cell_type": "code",
   "execution_count": 15,
   "metadata": {},
   "outputs": [
    {
     "data": {
      "text/html": [
       "<div>\n",
       "<style scoped>\n",
       "    .dataframe tbody tr th:only-of-type {\n",
       "        vertical-align: middle;\n",
       "    }\n",
       "\n",
       "    .dataframe tbody tr th {\n",
       "        vertical-align: top;\n",
       "    }\n",
       "\n",
       "    .dataframe thead th {\n",
       "        text-align: right;\n",
       "    }\n",
       "</style>\n",
       "<table border=\"1\" class=\"dataframe\">\n",
       "  <thead>\n",
       "    <tr style=\"text-align: right;\">\n",
       "      <th></th>\n",
       "      <th>Question</th>\n",
       "      <th>Sources</th>\n",
       "      <th>source_Faiss_ret</th>\n",
       "      <th>source_bm25</th>\n",
       "      <th>source_ensemble_retriever</th>\n",
       "      <th>Recall@5_source_Faiss_ret</th>\n",
       "      <th>Rank@5_source_Faiss_ret</th>\n",
       "      <th>Recall@5_source_bm25</th>\n",
       "      <th>Rank@5_source_bm25</th>\n",
       "      <th>Recall@5_source_ensemble_retriever</th>\n",
       "      <th>Rank@5_source_ensemble_retriever</th>\n",
       "    </tr>\n",
       "  </thead>\n",
       "  <tbody>\n",
       "    <tr>\n",
       "      <th>0</th>\n",
       "      <td>What is Red Hat OpenShift Service on AWS (ROSA)?</td>\n",
       "      <td>../data/external/rosaworkshop/14-faq.md</td>\n",
       "      <td>../data/external/rosaworkshop/14-faq.md, ../data/external/rosa-docs/rosa_architecture.md, ../data/external/rosaworkshop/14-faq.md, ../data/external/rh-mobb/_index.md, ../data/external/rosa-docs/welcome.md</td>\n",
       "      <td>../data/external/rosaworkshop/14-faq.md, ../data/external/rosa-docs/rosa_architecture.md, ../data/external/rosaworkshop/14-faq.md, ../data/external/rosa-docs/welcome.md, ../data/external/rh-mobb/_index.md</td>\n",
       "      <td>../data/external/rosaworkshop/14-faq.md, ../data/external/rosa-docs/rosa_architecture.md, ../data/external/rosaworkshop/14-faq.md, ../data/external/rh-mobb/_index.md, ../data/external/rosa-docs/welcome.md</td>\n",
       "      <td>1.0</td>\n",
       "      <td>1.0</td>\n",
       "      <td>1.0</td>\n",
       "      <td>1.0</td>\n",
       "      <td>1.0</td>\n",
       "      <td>1.0</td>\n",
       "    </tr>\n",
       "    <tr>\n",
       "      <th>1</th>\n",
       "      <td>Where can I go to get more information/details?</td>\n",
       "      <td>../data/external/rosaworkshop/14-faq.md</td>\n",
       "      <td>../data/external/rosa-docs/rosa_architecture.md, ../data/external/rosa-docs/rosa_architecture.md, ../data/external/rosa-docs/rosa_architecture.md, ../data/external/rosa-docs/rosa_architecture.md, ../data/external/rosaworkshop/14-faq.md</td>\n",
       "      <td>../data/external/rosaworkshop/14-faq.md, ../data/external/rosa-docs/rosa_architecture.md, ../data/external/rosa-docs/rosa_architecture.md, ../data/external/rosa-docs/rosa_architecture.md, ../data/external/rosa-docs/rosa_architecture.md</td>\n",
       "      <td>../data/external/rosaworkshop/14-faq.md, ../data/external/rosa-docs/rosa_architecture.md, ../data/external/rosa-docs/rosa_architecture.md, ../data/external/rosa-docs/rosa_architecture.md, ../data/external/rosa-docs/rosa_architecture.md</td>\n",
       "      <td>1.0</td>\n",
       "      <td>5.0</td>\n",
       "      <td>1.0</td>\n",
       "      <td>1.0</td>\n",
       "      <td>1.0</td>\n",
       "      <td>1.0</td>\n",
       "    </tr>\n",
       "    <tr>\n",
       "      <th>2</th>\n",
       "      <td>What are the benefits of Red Hat OpenShift Service on AWS (Key Features)?</td>\n",
       "      <td>../data/external/rosaworkshop/14-faq.md</td>\n",
       "      <td>../data/external/rosaworkshop/14-faq.md, ../data/external/rh-mobb/_index.md, ../data/external/rosaworkshop/14-faq.md, ../data/external/rosa-docs/rosa_architecture.md, ../data/external/rosa-docs/rosa_architecture.md</td>\n",
       "      <td>../data/external/rosaworkshop/14-faq.md, ../data/external/rosa-docs/rosa_architecture.md, ../data/external/rosaworkshop/14-faq.md, ../data/external/rosa-docs/rosa_architecture.md, ../data/external/rh-mobb/_index.md</td>\n",
       "      <td>../data/external/rosaworkshop/14-faq.md, ../data/external/rh-mobb/_index.md, ../data/external/rosaworkshop/14-faq.md, ../data/external/rosa-docs/rosa_architecture.md, ../data/external/rosa-docs/rosa_architecture.md</td>\n",
       "      <td>1.0</td>\n",
       "      <td>1.0</td>\n",
       "      <td>1.0</td>\n",
       "      <td>1.0</td>\n",
       "      <td>1.0</td>\n",
       "      <td>1.0</td>\n",
       "    </tr>\n",
       "    <tr>\n",
       "      <th>3</th>\n",
       "      <td>What are the differences between Red Hat OpenShift Service on AWS and Kubernetes?</td>\n",
       "      <td>../data/external/rosaworkshop/14-faq.md</td>\n",
       "      <td>../data/external/rosaworkshop/14-faq.md, ../data/external/rosa-docs/welcome.md, ../data/external/rosa-docs/rosa_architecture.md, ../data/external/rosa-docs/rosa_architecture.md, ../data/external/rosa-docs/rosa_install_access_delete_clusters.md</td>\n",
       "      <td>../data/external/rosaworkshop/14-faq.md, ../data/external/rosa-docs/rosa_architecture.md, ../data/external/rosa-docs/rosa_install_access_delete_clusters.md, ../data/external/rosa-docs/rosa_architecture.md, ../data/external/rosa-docs/welcome.md</td>\n",
       "      <td>../data/external/rosaworkshop/14-faq.md, ../data/external/rosa-docs/welcome.md, ../data/external/rosa-docs/rosa_architecture.md, ../data/external/rosa-docs/rosa_architecture.md, ../data/external/rosa-docs/rosa_install_access_delete_clusters.md</td>\n",
       "      <td>1.0</td>\n",
       "      <td>1.0</td>\n",
       "      <td>1.0</td>\n",
       "      <td>1.0</td>\n",
       "      <td>1.0</td>\n",
       "      <td>1.0</td>\n",
       "    </tr>\n",
       "    <tr>\n",
       "      <th>4</th>\n",
       "      <td>What exactly am I responsible for and what is Red Hat / AWS responsible for?</td>\n",
       "      <td>../data/external/rosaworkshop/14-faq.md</td>\n",
       "      <td>../data/external/rh-mobb/_index.md, ../data/external/rosa-docs/rosa_architecture.md, ../data/external/rosa-docs/rosa_architecture.md, ../data/external/rosaworkshop/14-faq.md, ../data/external/rosa-docs/rosa_architecture.md</td>\n",
       "      <td>../data/external/rosaworkshop/14-faq.md, ../data/external/rosa-docs/rosa_architecture.md, ../data/external/rosa-docs/rosa_architecture.md, ../data/external/rosa-docs/rosa_architecture.md, ../data/external/rh-mobb/_index.md</td>\n",
       "      <td>../data/external/rosaworkshop/14-faq.md, ../data/external/rh-mobb/_index.md, ../data/external/rosa-docs/rosa_architecture.md, ../data/external/rosa-docs/rosa_architecture.md, ../data/external/rosa-docs/rosa_architecture.md</td>\n",
       "      <td>1.0</td>\n",
       "      <td>4.0</td>\n",
       "      <td>1.0</td>\n",
       "      <td>1.0</td>\n",
       "      <td>1.0</td>\n",
       "      <td>1.0</td>\n",
       "    </tr>\n",
       "  </tbody>\n",
       "</table>\n",
       "</div>"
      ],
      "text/plain": [
       "                                                                            Question  \\\n",
       "0                                   What is Red Hat OpenShift Service on AWS (ROSA)?   \n",
       "1                                    Where can I go to get more information/details?   \n",
       "2          What are the benefits of Red Hat OpenShift Service on AWS (Key Features)?   \n",
       "3  What are the differences between Red Hat OpenShift Service on AWS and Kubernetes?   \n",
       "4       What exactly am I responsible for and what is Red Hat / AWS responsible for?   \n",
       "\n",
       "                                   Sources  \\\n",
       "0  ../data/external/rosaworkshop/14-faq.md   \n",
       "1  ../data/external/rosaworkshop/14-faq.md   \n",
       "2  ../data/external/rosaworkshop/14-faq.md   \n",
       "3  ../data/external/rosaworkshop/14-faq.md   \n",
       "4  ../data/external/rosaworkshop/14-faq.md   \n",
       "\n",
       "                                                                                                                                                                                                                                      source_Faiss_ret  \\\n",
       "0                                         ../data/external/rosaworkshop/14-faq.md, ../data/external/rosa-docs/rosa_architecture.md, ../data/external/rosaworkshop/14-faq.md, ../data/external/rh-mobb/_index.md, ../data/external/rosa-docs/welcome.md   \n",
       "1          ../data/external/rosa-docs/rosa_architecture.md, ../data/external/rosa-docs/rosa_architecture.md, ../data/external/rosa-docs/rosa_architecture.md, ../data/external/rosa-docs/rosa_architecture.md, ../data/external/rosaworkshop/14-faq.md   \n",
       "2                               ../data/external/rosaworkshop/14-faq.md, ../data/external/rh-mobb/_index.md, ../data/external/rosaworkshop/14-faq.md, ../data/external/rosa-docs/rosa_architecture.md, ../data/external/rosa-docs/rosa_architecture.md   \n",
       "3  ../data/external/rosaworkshop/14-faq.md, ../data/external/rosa-docs/welcome.md, ../data/external/rosa-docs/rosa_architecture.md, ../data/external/rosa-docs/rosa_architecture.md, ../data/external/rosa-docs/rosa_install_access_delete_clusters.md   \n",
       "4                       ../data/external/rh-mobb/_index.md, ../data/external/rosa-docs/rosa_architecture.md, ../data/external/rosa-docs/rosa_architecture.md, ../data/external/rosaworkshop/14-faq.md, ../data/external/rosa-docs/rosa_architecture.md   \n",
       "\n",
       "                                                                                                                                                                                                                                           source_bm25  \\\n",
       "0                                         ../data/external/rosaworkshop/14-faq.md, ../data/external/rosa-docs/rosa_architecture.md, ../data/external/rosaworkshop/14-faq.md, ../data/external/rosa-docs/welcome.md, ../data/external/rh-mobb/_index.md   \n",
       "1          ../data/external/rosaworkshop/14-faq.md, ../data/external/rosa-docs/rosa_architecture.md, ../data/external/rosa-docs/rosa_architecture.md, ../data/external/rosa-docs/rosa_architecture.md, ../data/external/rosa-docs/rosa_architecture.md   \n",
       "2                               ../data/external/rosaworkshop/14-faq.md, ../data/external/rosa-docs/rosa_architecture.md, ../data/external/rosaworkshop/14-faq.md, ../data/external/rosa-docs/rosa_architecture.md, ../data/external/rh-mobb/_index.md   \n",
       "3  ../data/external/rosaworkshop/14-faq.md, ../data/external/rosa-docs/rosa_architecture.md, ../data/external/rosa-docs/rosa_install_access_delete_clusters.md, ../data/external/rosa-docs/rosa_architecture.md, ../data/external/rosa-docs/welcome.md   \n",
       "4                       ../data/external/rosaworkshop/14-faq.md, ../data/external/rosa-docs/rosa_architecture.md, ../data/external/rosa-docs/rosa_architecture.md, ../data/external/rosa-docs/rosa_architecture.md, ../data/external/rh-mobb/_index.md   \n",
       "\n",
       "                                                                                                                                                                                                                             source_ensemble_retriever  \\\n",
       "0                                         ../data/external/rosaworkshop/14-faq.md, ../data/external/rosa-docs/rosa_architecture.md, ../data/external/rosaworkshop/14-faq.md, ../data/external/rh-mobb/_index.md, ../data/external/rosa-docs/welcome.md   \n",
       "1          ../data/external/rosaworkshop/14-faq.md, ../data/external/rosa-docs/rosa_architecture.md, ../data/external/rosa-docs/rosa_architecture.md, ../data/external/rosa-docs/rosa_architecture.md, ../data/external/rosa-docs/rosa_architecture.md   \n",
       "2                               ../data/external/rosaworkshop/14-faq.md, ../data/external/rh-mobb/_index.md, ../data/external/rosaworkshop/14-faq.md, ../data/external/rosa-docs/rosa_architecture.md, ../data/external/rosa-docs/rosa_architecture.md   \n",
       "3  ../data/external/rosaworkshop/14-faq.md, ../data/external/rosa-docs/welcome.md, ../data/external/rosa-docs/rosa_architecture.md, ../data/external/rosa-docs/rosa_architecture.md, ../data/external/rosa-docs/rosa_install_access_delete_clusters.md   \n",
       "4                       ../data/external/rosaworkshop/14-faq.md, ../data/external/rh-mobb/_index.md, ../data/external/rosa-docs/rosa_architecture.md, ../data/external/rosa-docs/rosa_architecture.md, ../data/external/rosa-docs/rosa_architecture.md   \n",
       "\n",
       "   Recall@5_source_Faiss_ret  Rank@5_source_Faiss_ret  Recall@5_source_bm25  \\\n",
       "0                        1.0                      1.0                   1.0   \n",
       "1                        1.0                      5.0                   1.0   \n",
       "2                        1.0                      1.0                   1.0   \n",
       "3                        1.0                      1.0                   1.0   \n",
       "4                        1.0                      4.0                   1.0   \n",
       "\n",
       "   Rank@5_source_bm25  Recall@5_source_ensemble_retriever  \\\n",
       "0                 1.0                                 1.0   \n",
       "1                 1.0                                 1.0   \n",
       "2                 1.0                                 1.0   \n",
       "3                 1.0                                 1.0   \n",
       "4                 1.0                                 1.0   \n",
       "\n",
       "   Rank@5_source_ensemble_retriever  \n",
       "0                               1.0  \n",
       "1                               1.0  \n",
       "2                               1.0  \n",
       "3                               1.0  \n",
       "4                               1.0  "
      ]
     },
     "execution_count": 15,
     "metadata": {},
     "output_type": "execute_result"
    }
   ],
   "source": [
    "df.head(5)"
   ]
  },
  {
   "cell_type": "markdown",
   "metadata": {},
   "source": [
    "Lets check the recall values for three cases. "
   ]
  },
  {
   "cell_type": "code",
   "execution_count": 16,
   "metadata": {},
   "outputs": [
    {
     "name": "stdout",
     "output_type": "stream",
     "text": [
      "Recall value for Faiss retriever: 35.0\n",
      "Recall value for bm25 retriever: 35.0\n",
      "Recall value for ensemble retriever: 35.0\n",
      "Total number of queries : 65\n"
     ]
    }
   ],
   "source": [
    "print(f\"Recall value for Faiss retriever: {df['Recall@5_source_Faiss_ret'].sum()}\")\n",
    "print(f\"Recall value for bm25 retriever: {df['Recall@5_source_bm25'].sum()}\")\n",
    "print(f\"Recall value for ensemble retriever: {df['Recall@5_source_ensemble_retriever'].sum()}\")\n",
    "print(f\"Total number of queries : {df['Question'].nunique()}\")"
   ]
  },
  {
   "cell_type": "markdown",
   "metadata": {},
   "source": [
    "The recall values for the Faiss retriever, bm25 retriever, and ensemble retriever are all 35.0. This suggests that across a total of 65 queries, each retriever successfully identified and retrieved relevant information in 35 instances. The uniformity in recall values indicates comparable retrieval performance among the three retrievers."
   ]
  },
  {
   "cell_type": "markdown",
   "metadata": {},
   "source": [
    "Now, let's evaluate the Mean Reciprocal Rank (MRR) for three different retrieval cases, considering the order of relevance. We will compare the MRR values to assess the performance of each case."
   ]
  },
  {
   "cell_type": "code",
   "execution_count": 17,
   "metadata": {},
   "outputs": [
    {
     "name": "stdout",
     "output_type": "stream",
     "text": [
      "Mean Reciprocal Rank (MRR) for Rank@5_source_Faiss_ret: 0.3953846153846154\n",
      "Mean Reciprocal Rank (MRR) for Rank@5_source_bm25: 0.48435897435897435\n",
      "Mean Reciprocal Rank (MRR) for Rank@5_source_ensemble_retriever: 0.47948717948717945\n"
     ]
    }
   ],
   "source": [
    "mrr_values = {}\n",
    "\n",
    "for column in ['Rank@5_source_Faiss_ret', 'Rank@5_source_bm25', 'Rank@5_source_ensemble_retriever']:\n",
    "    ranks_column = df[column]\n",
    "    reciprocal_ranks = 1 / ranks_column.replace(0, float('inf')).astype(float)\n",
    "    sum_reciprocal_ranks = reciprocal_ranks.sum()\n",
    "    mrr = sum_reciprocal_ranks / len(df)\n",
    "    mrr_values[column] = mrr\n",
    "\n",
    "# \n",
    "for column, mrr in mrr_values.items():\n",
    "    print(f\"Mean Reciprocal Rank (MRR) for {column}: {mrr}\")"
   ]
  },
  {
   "cell_type": "markdown",
   "metadata": {},
   "source": [
    "These values indicate the effectiveness of each retrieval method in providing relevant information within the top 5 results. A higher MRR suggests a better-performing retrieval system. In this comparison, Rank@5_source_bm25 has the highest MRR, indicating its superiority in returning relevant documents early in the ranking. "
   ]
  },
  {
   "cell_type": "markdown",
   "metadata": {},
   "source": [
    "# Conclusion\n",
    "\n",
    "In this notebook we,\n",
    "\n",
    "- Explored document retrieval using a basic ensemble retriever.\n",
    "- Examined various evaluation metrics, including recall and mean reciprocal rank.\n",
    "- Conducted a comparative analysis of different retriever configurations.\n",
    "- Gained insights into effective document retrieval strategies and metric considerations."
   ]
  }
 ],
 "metadata": {
  "kernelspec": {
   "display_name": "Python 3.9",
   "language": "python",
   "name": "python3"
  },
  "language_info": {
   "codemirror_mode": {
    "name": "ipython",
    "version": 3
   },
   "file_extension": ".py",
   "mimetype": "text/x-python",
   "name": "python",
   "nbconvert_exporter": "python",
   "pygments_lexer": "ipython3",
   "version": "3.9.16"
  },
  "vscode": {
   "interpreter": {
    "hash": "dfef540ac477f3be91e5308acd671ac2a81f2c8cc1125947821b3502f71b441e"
   }
  }
 },
 "nbformat": 4,
 "nbformat_minor": 4
}
