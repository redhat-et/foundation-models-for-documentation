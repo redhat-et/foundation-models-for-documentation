{
 "cells": [
  {
   "cell_type": "markdown",
   "id": "46992c86-b56c-446c-a86e-3b8ba9b9f383",
   "metadata": {},
   "source": [
    "# ROSA QA demo\n",
    "This notebook demos our experiments with Question answering for documentation search with ROSA. The training set here all the public documents available. The results here reflect how the models will perform in deployment when it has access to all the data. For validation, we use a FAQ document present in the documentation dataset for ROSA.  This exercise reveals how the models will perform if they have access to the exact answer.  You will need to provide the api key as the `OPENAI_API_KEY` environment variable to execute this notebook the open-ai api based llms. You can place the key in a `credentials.env` at the root of this repository and this notebook will load it in the following cell. For an example, look at the `credentials_example.env` file."
   ]
  },
  {
   "cell_type": "markdown",
   "id": "cd41c9a6",
   "metadata": {},
   "source": [
    "## Import dependencies and credentials"
   ]
  },
  {
   "cell_type": "code",
   "execution_count": 2,
   "id": "c0cc37b2-3872-4357-90ff-432e665d2dc0",
   "metadata": {},
   "outputs": [
    {
     "name": "stderr",
     "output_type": "stream",
     "text": [
      "/opt/anaconda3/envs/fm/lib/python3.10/site-packages/tqdm/auto.py:22: TqdmWarning: IProgress not found. Please update jupyter and ipywidgets. See https://ipywidgets.readthedocs.io/en/stable/user_install.html\n",
      "  from .autonotebook import tqdm as notebook_tqdm\n"
     ]
    }
   ],
   "source": [
    "# Import package\n",
    "\n",
    "import pandas as pd\n",
    "\n",
    "import re\n",
    "from sklearn.metrics import f1_score\n",
    "import nltk\n",
    "\n",
    "from langchain.embeddings.openai import OpenAIEmbeddings\n",
    "from langchain.text_splitter import MarkdownTextSplitter\n",
    "from langchain.vectorstores import Chroma\n",
    "from langchain.docstore.document import Document\n",
    "from langchain.prompts import PromptTemplate\n",
    "from langchain.chains.question_answering import load_qa_chain\n",
    "from langchain.llms import OpenAI\n",
    "from langchain.document_loaders import TextLoader, DirectoryLoader\n",
    "from langchain.chains.qa_with_sources import load_qa_with_sources_chain\n",
    "from langchain.prompts.prompt import PromptTemplate\n",
    "\n",
    "from dotenv import load_dotenv, find_dotenv\n",
    "import pandas as pd\n",
    "import time\n",
    "pd.set_option('display.max_colwidth', None)"
   ]
  },
  {
   "cell_type": "code",
   "execution_count": 3,
   "id": "756b5eb5-05dc-4343-a60a-815eccaa2826",
   "metadata": {},
   "outputs": [
    {
     "data": {
      "text/plain": [
       "True"
      ]
     },
     "execution_count": 3,
     "metadata": {},
     "output_type": "execute_result"
    }
   ],
   "source": [
    "load_dotenv(find_dotenv(\"credentials.env\"), override=True)"
   ]
  },
  {
   "cell_type": "markdown",
   "id": "3ed950b1-cfb5-46ed-98fa-984081344254",
   "metadata": {},
   "source": [
    "## Load all the documents in a vectorstore"
   ]
  },
  {
   "cell_type": "code",
   "execution_count": 21,
   "id": "555178f7-0ebd-49ef-b7c4-cb8b1049dec4",
   "metadata": {},
   "outputs": [],
   "source": [
    "loader = DirectoryLoader('../data/external', glob=\"**/*.md\", loader_cls=TextLoader)\n",
    "documents = loader.load()"
   ]
  },
  {
   "cell_type": "code",
   "execution_count": 22,
   "id": "686fea83-abdb-4571-bc6f-ba0c96cc3702",
   "metadata": {},
   "outputs": [
    {
     "data": {
      "text/plain": [
       "True"
      ]
     },
     "execution_count": 22,
     "metadata": {},
     "output_type": "execute_result"
    }
   ],
   "source": [
    "## Verification\n",
    "'../data/external/rosaworkshop/14-faq.md' in [i.metadata['source'] for i in documents]"
   ]
  },
  {
   "cell_type": "code",
   "execution_count": 23,
   "id": "01d4516c-b7e8-44d2-9bcf-c24e1b6fc102",
   "metadata": {},
   "outputs": [],
   "source": [
    "## Split the documents into chunks. Is there a better way than hardcoding size as 1000?\n",
    "text_splitter = MarkdownTextSplitter(chunk_size=1000, chunk_overlap=0)\n",
    "texts = text_splitter.split_documents(documents)"
   ]
  },
  {
   "cell_type": "code",
   "execution_count": 24,
   "id": "b9a44a23-0f1f-4c62-8ddf-6412ce423eb8",
   "metadata": {},
   "outputs": [],
   "source": [
    "embeddings = OpenAIEmbeddings()"
   ]
  },
  {
   "cell_type": "code",
   "execution_count": 25,
   "id": "019cac62-823a-49a5-82a7-b4273d0051b7",
   "metadata": {
    "tags": []
   },
   "outputs": [
    {
     "name": "stdout",
     "output_type": "stream",
     "text": [
      "Running Chroma using direct local API.\n",
      "No existing DB found in ../data/interim, skipping load\n",
      "No existing DB found in ../data/interim, skipping load\n"
     ]
    }
   ],
   "source": [
    "docsearch = Chroma.from_documents(texts, embeddings, persist_directory='../data/interim')\n",
    "#docsearch.persist()"
   ]
  },
  {
   "cell_type": "markdown",
   "id": "3cf86406",
   "metadata": {},
   "source": [
    "## Solution 1: Documentation Search\n",
    "In this next section, we demonstrate an embedding based approach to search within the documentation of the ROSA product. The algorithm takes user queries and looks for relevant content in the product documents. The _relevance_ is determined by vector similarilty in the embedding space. Then, it fetches the top k excerpts and the markdown document that has the probability of having the answer. The end user would see the top k relevant documents to their query and click on the page that they think answers their query. \n",
    "The benefits of these approach is that it is that it requires less resources to integrate with existing workflows. The reasons for that are: \n",
    "* Since it is not generative text, it is easier to evaluate the correctness of the approach\n",
    "* The CPU, GPU, memory, and disk requirements of this approach would be less than hosting a llm\n",
    "* This notebook uses OpenAI embedding API but there are comparable open source alternatives that can be adapted for this task"
   ]
  },
  {
   "cell_type": "code",
   "execution_count": 11,
   "id": "ecb58bfd",
   "metadata": {},
   "outputs": [],
   "source": [
    "# Fetch the evaluation dataset \n",
    "eval_dataset = pd.read_csv('../data/processed/validation_data.csv')[['Question', 'Answer']]\n",
    "questions = eval_dataset['Question'].tolist()"
   ]
  },
  {
   "cell_type": "code",
   "execution_count": 98,
   "id": "a8baf53b",
   "metadata": {},
   "outputs": [],
   "source": [
    "# Get relevant documents for the questions\n",
    "data = list()\n",
    "for q in questions:\n",
    "    docs = docsearch.similarity_search(q, 5)\n",
    "    data.append([q, docs[0].page_content, docs[0].metadata['source'],\n",
    "                 docs[1].page_content, docs[1].metadata['source'],\n",
    "                 docs[2].page_content, docs[2].metadata['source'],\n",
    "                 docs[3].page_content, docs[3].metadata['source'],\n",
    "                 docs[4].page_content, docs[4].metadata['source'],\n",
    "                 ])"
   ]
  },
  {
   "cell_type": "code",
   "execution_count": 119,
   "id": "ec49c2b3",
   "metadata": {},
   "outputs": [
    {
     "data": {
      "text/html": [
       "<div>\n",
       "<style scoped>\n",
       "    .dataframe tbody tr th:only-of-type {\n",
       "        vertical-align: middle;\n",
       "    }\n",
       "\n",
       "    .dataframe tbody tr th {\n",
       "        vertical-align: top;\n",
       "    }\n",
       "\n",
       "    .dataframe thead th {\n",
       "        text-align: right;\n",
       "    }\n",
       "</style>\n",
       "<table border=\"1\" class=\"dataframe\">\n",
       "  <thead>\n",
       "    <tr style=\"text-align: right;\">\n",
       "      <th></th>\n",
       "      <th>question</th>\n",
       "      <th>A1-text</th>\n",
       "      <th>A1-source</th>\n",
       "      <th>A2-text</th>\n",
       "      <th>A2-source</th>\n",
       "      <th>A3-text</th>\n",
       "      <th>A3-source</th>\n",
       "      <th>A4-text</th>\n",
       "      <th>A4-source</th>\n",
       "      <th>A5-text</th>\n",
       "      <th>A5-source</th>\n",
       "    </tr>\n",
       "  </thead>\n",
       "  <tbody>\n",
       "    <tr>\n",
       "      <th>0</th>\n",
       "      <td>What is Red Hat OpenShift Service on AWS (ROSA)?</td>\n",
       "      <td># Understanding ROSA\\n\\nLearn about Red Hat OpenShift Service on AWS (ROSA), interacting with ROSA using Red Hat OpenShift Cluster Manager and command-line interface (CLI) tools, consumption experience, and integration with Amazon Web Services (AWS) services.</td>\n",
       "      <td>../data/external/rosa-docs/rosa_architecture.md</td>\n",
       "      <td>About ROSA\\n\\nROSA is a fully-managed, turnkey application platform that allows you to focus on delivering value to your customers by building and deploying applications. Red Hat and AWS Site reliability engineering (SRE) experts manage the underlying platform so you do not have to worry about the complexity of infrastructure management. ROSA provides seamless integration with a wide range of AWS compute, database, analytics, machine learning, networking, mobile, and other services to further accelerate the building and delivering of differentiating experiences to your customers.\\n\\nYou subscribe to the service directly from your AWS account. After the clusters are created, you can operate your clusters with the OpenShift web console or through Red Hat OpenShift Cluster Manager. The ROSA service also uses OpenShift APIs and command-line interface (CLI) tools. These tools provide a standardized OpenShift experience to use your existing skills and tools knowledge.</td>\n",
       "      <td>../data/external/rosa-docs/rosa_architecture.md</td>\n",
       "      <td>Red Hat OpenShift Service on AWS service definition\\n\\nThis documentation outlines the service definition for the Red Hat OpenShift Service on AWS (ROSA) managed service.</td>\n",
       "      <td>../data/external/rosa-docs/rosa_architecture.md</td>\n",
       "      <td>General\\n\\n### What is Red Hat OpenShift Service on AWS (ROSA)?\\nRed Hat Openshift Service on AWS (ROSA) is a fully-managed turnkey application platform that allows you to focus on what matters most, delivering value to your customers by building and deploying applications. Red Hat SRE experts manage the underlying platform so you don’t have to worry about the complexity of infrastructure management.\\n\\n### Where can I go to get more information/details?\\n- [ROSA Webpage](https://www.openshift.com/products/amazon-openshift)\\n- [ROSA Workshop](https://www.rosaworkshop.io)\\n- [ROSA Documentation](https://docs.openshift.com/rosa/welcome/index.html)</td>\n",
       "      <td>../data/external/rosaworkshop/14-faq.md</td>\n",
       "      <td>What are the differences between Red Hat OpenShift Service on AWS and Kubernetes?\\nEverything you need to deploy and manage containers is bundled with ROSA, including container management, automation (Operators), networking, load balancing, service mesh, CI/CD, firewall, monitoring, registry, authentication, and authorization capabilities. These components are tested together for unified operations as a complete platform. Automated cluster operations, including over-the-air platform upgrades, further enhance your Kubernetes experience.</td>\n",
       "      <td>../data/external/rosaworkshop/14-faq.md</td>\n",
       "    </tr>\n",
       "  </tbody>\n",
       "</table>\n",
       "</div>"
      ],
      "text/plain": [
       "                                           question  \\\n",
       "0  What is Red Hat OpenShift Service on AWS (ROSA)?   \n",
       "\n",
       "                                                                                                                                                                                                                                                               A1-text  \\\n",
       "0  # Understanding ROSA\\n\\nLearn about Red Hat OpenShift Service on AWS (ROSA), interacting with ROSA using Red Hat OpenShift Cluster Manager and command-line interface (CLI) tools, consumption experience, and integration with Amazon Web Services (AWS) services.   \n",
       "\n",
       "                                         A1-source  \\\n",
       "0  ../data/external/rosa-docs/rosa_architecture.md   \n",
       "\n",
       "                                                                                                                                                                                                                                                                                                                                                                                                                                                                                                                                                                                                                                                                                                                                                                                                                                                                                                                                                                                                            A2-text  \\\n",
       "0  About ROSA\\n\\nROSA is a fully-managed, turnkey application platform that allows you to focus on delivering value to your customers by building and deploying applications. Red Hat and AWS Site reliability engineering (SRE) experts manage the underlying platform so you do not have to worry about the complexity of infrastructure management. ROSA provides seamless integration with a wide range of AWS compute, database, analytics, machine learning, networking, mobile, and other services to further accelerate the building and delivering of differentiating experiences to your customers.\\n\\nYou subscribe to the service directly from your AWS account. After the clusters are created, you can operate your clusters with the OpenShift web console or through Red Hat OpenShift Cluster Manager. The ROSA service also uses OpenShift APIs and command-line interface (CLI) tools. These tools provide a standardized OpenShift experience to use your existing skills and tools knowledge.   \n",
       "\n",
       "                                         A2-source  \\\n",
       "0  ../data/external/rosa-docs/rosa_architecture.md   \n",
       "\n",
       "                                                                                                                                                                      A3-text  \\\n",
       "0  Red Hat OpenShift Service on AWS service definition\\n\\nThis documentation outlines the service definition for the Red Hat OpenShift Service on AWS (ROSA) managed service.   \n",
       "\n",
       "                                         A3-source  \\\n",
       "0  ../data/external/rosa-docs/rosa_architecture.md   \n",
       "\n",
       "                                                                                                                                                                                                                                                                                                                                                                                                                                                                                                                                                                                                                                                                         A4-text  \\\n",
       "0  General\\n\\n### What is Red Hat OpenShift Service on AWS (ROSA)?\\nRed Hat Openshift Service on AWS (ROSA) is a fully-managed turnkey application platform that allows you to focus on what matters most, delivering value to your customers by building and deploying applications. Red Hat SRE experts manage the underlying platform so you don’t have to worry about the complexity of infrastructure management.\\n\\n### Where can I go to get more information/details?\\n- [ROSA Webpage](https://www.openshift.com/products/amazon-openshift)\\n- [ROSA Workshop](https://www.rosaworkshop.io)\\n- [ROSA Documentation](https://docs.openshift.com/rosa/welcome/index.html)   \n",
       "\n",
       "                                 A4-source  \\\n",
       "0  ../data/external/rosaworkshop/14-faq.md   \n",
       "\n",
       "                                                                                                                                                                                                                                                                                                                                                                                                                                                                                                                                                         A5-text  \\\n",
       "0  What are the differences between Red Hat OpenShift Service on AWS and Kubernetes?\\nEverything you need to deploy and manage containers is bundled with ROSA, including container management, automation (Operators), networking, load balancing, service mesh, CI/CD, firewall, monitoring, registry, authentication, and authorization capabilities. These components are tested together for unified operations as a complete platform. Automated cluster operations, including over-the-air platform upgrades, further enhance your Kubernetes experience.   \n",
       "\n",
       "                                 A5-source  \n",
       "0  ../data/external/rosaworkshop/14-faq.md  "
      ]
     },
     "execution_count": 119,
     "metadata": {},
     "output_type": "execute_result"
    }
   ],
   "source": [
    "# Create a dataframe with the top 5 texts and sources\n",
    "s1_answers = pd.DataFrame(data=data, columns=['question', 'A1-text', 'A1-source',\n",
    "                                              'A2-text', 'A2-source',\n",
    "                                              'A3-text', 'A3-source',\n",
    "                                              'A4-text', 'A4-source',\n",
    "                                              'A5-text', 'A5-source',\n",
    "                                              ])\n",
    "s1_answers.head(1)"
   ]
  },
  {
   "cell_type": "code",
   "execution_count": 116,
   "id": "f5920f90",
   "metadata": {},
   "outputs": [
    {
     "data": {
      "image/png": "[encoded data removed]",
      "text/plain": [
       "<Figure size 640x480 with 1 Axes>"
      ]
     },
     "metadata": {},
     "output_type": "display_data"
    }
   ],
   "source": [
    "# Analyze results of the documentation search\n",
    "ans_doc = \"../data/external/rosaworkshop/14-faq.md\"\n",
    "c1, c2, c3, c4, c5, c0 = 0, 0, 0, 0, 0, 0\n",
    "for i, row in s1_answers.iterrows():\n",
    "    if ans_doc in row['A1-source']:c1+=1\n",
    "    elif ans_doc in row['A2-source']:c2+=1\n",
    "    elif ans_doc in row['A3-source']:c3+=1\n",
    "    elif ans_doc in row['A4-source']:c4+=1\n",
    "    elif ans_doc in row['A5-source']:c5+=1\n",
    "    else: c0+=1\n",
    "# Define the data\n",
    "x = ['Rank 1', 'Rank 2', 'Rank 3', 'Rank 4', 'Rank 5', 'Not in first 5']\n",
    "y = [2, 6, 9, 19, 14, 15]\n",
    "\n",
    "# Set the Seaborn style\n",
    "sns.set_style('whitegrid')\n",
    "\n",
    "# Create the bar chart using Seaborn\n",
    "sns.barplot(x=x, y=y)\n",
    "\n",
    "# Add some labels and titles\n",
    "plt.xlabel('Match rank')\n",
    "plt.ylabel('Frequency')\n",
    "plt.title('Bar Chart')\n",
    "\n",
    "# Show the plot\n",
    "plt.show()"
   ]
  },
  {
   "cell_type": "markdown",
   "id": "84e24a61",
   "metadata": {},
   "source": [
    "### Next steps for documents retrieval\n",
    "* Calculate Mean reciprocal rank and improve the ranks of the documents retrieved\n",
    "* Create a more comprehensive testing set including questions that are semantically similar but syntatically different with FAQ questions"
   ]
  },
  {
   "cell_type": "markdown",
   "id": "4dd03fc3-3e3c-474e-98a7-f38cacf7c220",
   "metadata": {},
   "source": [
    "## Solution 2: Answer Generation after documentation search\n",
    "\n",
    "In the next section, we will demonstrate a text generation approach to answer questions. The algorithm takes user queries and generates the answer word by word. Each word in the output is conditioned on the input and the previous output words. This approach builds on the embedding based search and uses its result to provide context as a part of the input to the generative model. The benefits of the model are:\n",
    "* Users don't have to search for the answer in a document\n",
    "* It has a chat like capability to iteratively refine informaton retrieval\n",
    "\n",
    "The challenges with this approach are:\n",
    "* Generation can be grammatically correct but factually incorrect\n",
    "* It requires intesive compute\n",
    "* It is an emerging space with rapid changes in technology"
   ]
  },
  {
   "cell_type": "code",
   "execution_count": 18,
   "id": "20104763-9d31-4b7d-93d1-47b5dfcf225d",
   "metadata": {
    "tags": []
   },
   "outputs": [],
   "source": [
    "chain = load_qa_with_sources_chain(OpenAI(temperature=0), chain_type=\"stuff\")"
   ]
  },
  {
   "cell_type": "code",
   "execution_count": 19,
   "id": "1c838cb2-58d9-4017-90b9-0822ac8e2847",
   "metadata": {},
   "outputs": [],
   "source": [
    "def answer_question(query, index, chain):\n",
    "    \"\"\"\n",
    "    Takes in query, index to search from, and llm chain to generate answer\n",
    "    \"\"\"\n",
    "    ## Retrieve docs\n",
    "    docs = index.similarity_search(query)\n",
    "    ## Generate answer\n",
    "    answer = chain({\"input_documents\": docs, \"question\": query}, return_only_outputs=True)\n",
    "    return answer['output_text']"
   ]
  },
  {
   "cell_type": "markdown",
   "id": "bc0d1607-c370-42ff-8741-890cd5886d69",
   "metadata": {},
   "source": [
    "### Generate answers for the FAQ dataset questions "
   ]
  },
  {
   "cell_type": "code",
   "execution_count": 16,
   "id": "0bd12934-3eda-47d8-b263-1640db43581d",
   "metadata": {
    "tags": []
   },
   "outputs": [
    {
     "name": "stdout",
     "output_type": "stream",
     "text": [
      "1/65 done\n",
      "2/65 done\n",
      "3/65 done\n",
      "4/65 done\n",
      "5/65 done\n",
      "6/65 done\n",
      "7/65 done\n",
      "8/65 done\n",
      "9/65 done\n",
      "10/65 done\n",
      "11/65 done\n",
      "12/65 done\n",
      "13/65 done\n",
      "14/65 done\n",
      "15/65 done\n",
      "16/65 done\n",
      "17/65 done\n",
      "18/65 done\n",
      "19/65 done\n",
      "20/65 done\n",
      "21/65 done\n",
      "22/65 done\n",
      "23/65 done\n",
      "24/65 done\n",
      "25/65 done\n",
      "26/65 done\n",
      "27/65 done\n",
      "28/65 done\n",
      "29/65 done\n",
      "30/65 done\n",
      "31/65 done\n",
      "32/65 done\n",
      "33/65 done\n",
      "34/65 done\n",
      "35/65 done\n",
      "36/65 done\n",
      "37/65 done\n",
      "38/65 done\n",
      "39/65 done\n",
      "40/65 done\n",
      "41/65 done\n",
      "42/65 done\n",
      "43/65 done\n",
      "44/65 done\n",
      "45/65 done\n",
      "46/65 done\n",
      "47/65 done\n",
      "48/65 done\n",
      "49/65 done\n",
      "50/65 done\n",
      "51/65 done\n",
      "52/65 done\n",
      "53/65 done\n",
      "54/65 done\n",
      "55/65 done\n",
      "56/65 done\n",
      "57/65 done\n",
      "58/65 done\n",
      "59/65 done\n",
      "60/65 done\n",
      "61/65 done\n",
      "62/65 done\n",
      "63/65 done\n",
      "64/65 done\n",
      "65/65 done\n"
     ]
    }
   ],
   "source": [
    "questions = eval_dataset['Question'].tolist()\n",
    "real_answers = eval_dataset['Answer'].tolist()\n",
    "generated_answers = list()\n",
    "i=1\n",
    "for query in questions:\n",
    "    answer = answer_question(query, docsearch, chain)\n",
    "    generated_answers.append(answer)\n",
    "    ## Add delay to avoid rate limit error\n",
    "    time.sleep(1)\n",
    "    print(f\"{i}/{len(eval_dataset)} done\")\n",
    "    i+=1\n",
    "    \n",
    "eval_dataset['generated_answers'] = generated_answers"
   ]
  },
  {
   "cell_type": "code",
   "execution_count": null,
   "id": "fa4857d8",
   "metadata": {},
   "outputs": [],
   "source": [
    "# Save data for analysis\n",
    "eval_dataset.to_csv(\"../data/results/openai-0/generated-answers.csv\")"
   ]
  },
  {
   "cell_type": "markdown",
   "id": "3b7c159d",
   "metadata": {},
   "source": [
    "### Qualitative Evaluation"
   ]
  },
  {
   "cell_type": "markdown",
   "id": "680cb607",
   "metadata": {},
   "source": [
    "Next, we tried qualitatively evaluating the outputs of the model: \n",
    "\n",
    "Example 1\n",
    "- Question: _What exactly am I responsible for and what is Red Hat / AWS responsible for?_ \n",
    "- Actual Answer: \"In short, anything that is related to deploying the cluster or keeping the cluster running will be Red Hat’s or AWS’s responsibility, and anything relating to the applications, users, or data is the customers responsibility.  Please see our [responsibility matrix](https://docs.openshift.com/rosa/rosa_architecture/rosa_policy_service_definition/rosa-policy-responsibility-matrix.html) for more details.\"\n",
    "- Generated Answer:   Anything related to deploying the cluster or keeping the cluster running is Red Hat's or AWS's responsibility, and anything relating to the applications, users, or data is the customer's responsibility. Please see the responsibility matrix for more details.\n",
    "- **Observations: The answer is correct here but the link to the document is missing.**\n",
    "\n",
    "Example 2\n",
    "- Question: _Do I need to sign/have a contract with Red Hat?_ \n",
    "- Actual Answer: \"No. You do not need to have a contract with Red Hat to use ROSA. You will need a Red Hat account for use on console.redhat.com which includes accepting our Enterprise Agreement and Online services terms.\"\n",
    "- Generated Answer:   No, you do not need to sign/have a contract with Red Hat.\n",
    "- **Observations: The answer is correct but a subset of the actual answer. Model outputs are brief and partially correct frequently. They are exact responses to the prompts, for example they wouldn’t include links and descriptions if the input prompt doesn’t ask for them.**\n",
    "\n",
    "Example 3\n",
    "- Question: _Where can I go to get more information/details?_ \n",
    "- Actual Answer: \"[ROSA Webpage](https://www.openshift.com/products/amazon-openshift)...\"\n",
    "- Generated Answer:  You can find more information and details on the Home page of the OCM UI, which includes links to additional resources.\n",
    "- **Observations: If the input questions are out of context and they don’t mention ROSA, it’ll be very hard to get sensible answers. In the original FAQ document, they had a context that they belonged to the ROSA workshop FAQ document but here the context is not available.**\n",
    "\n",
    "Example 4\n",
    "- Question: _Which compliance certifications does ROSA have so far?_\n",
    "- Actual Answer: Red Hat OpenShift Service on AWS is currently compliant with SOC-1, SOC-2 type 1 & type 2, ISO-27001, & PCI-DSS. We are also currently working towards FedRAMP High, HIPAA, ISO 27017 and ISO 27018 as well.\n",
    "- Generated Answer: ROSA has not yet obtained any compliance certifications.\n",
    "- **Observation: The answer is completely incorrect here.**\n",
    "\n",
    "\n",
    "Some other examples that we evaluated can be seen in here ([1](https://docs.google.com/spreadsheets/d/1XQUn9IgzVXxTQxRdVWG7xfQOuowGIFLorXECKUKi16w/edit#gid=8386486),[2](https://docs.google.com/spreadsheets/d/1Z0m4FqRsWfV4PDWDZSK3vhSyf8sth7IUBAaFW7x-6mw/edit#gid=1290796759))\n",
    "\n",
    "We also have the quantitaitve metrics in the metrics notebook.\n",
    "\n",
    "The answers can be improved by writing tailored prompts for the task. There are different ways of prompt engineering and some of them are listed here [1](https://learn.microsoft.com/en-us/azure/cognitive-services/openai/concepts/prompt-engineering):\n",
    "* Primary content or the system prompt or the main instruction: Adding a detailed context around the problem and assigning a persona to the model\n",
    "* Few-shot learning: Adding to show how the output looks \n",
    "* Cue: Adding a \"jumpstart\" phrase or cue to help the model generate the answer\n",
    "* Fallback: Adding an instruction for what to do when the model doesn't know the answer\n",
    "* Best practices: Adding instructions that are specific, descriptive, chronological, and emphasizes important aspects"
   ]
  },
  {
   "cell_type": "markdown",
   "id": "fff15494",
   "metadata": {},
   "source": [
    "### Prompt Generation\n",
    "The prompt was written following these prompt engineering [guidelines](https://learn.microsoft.com/en-us/azure/cognitive-services/openai/concepts/prompt-engineering) and chat GPT. The template for this will be added to the repository. "
   ]
  },
  {
   "cell_type": "code",
   "execution_count": 128,
   "id": "bfe40c7e",
   "metadata": {},
   "outputs": [],
   "source": [
    "template = \"\"\"\n",
    "You are a support engineer who is trying to generate answers for questions around the ROSA product. Your goal is to answer questions that ROSA customers and users would find relevant, informative, and useful. You should be descriptive and provide links to support your answer. \n",
    "\n",
    "Here is a description of the product:\n",
    "ROSA is a fully-managed, turnkey application platform that allows you to focus on delivering value to your customers by building and deploying applications. You can learn more about it in the documentaion here: https://docs.openshift.com/rosa/welcome/index.html\n",
    "\n",
    "Here are a few input and output pairs examples to guide the model:\n",
    "\n",
    "Input: \"What is Red Hat OpenShift Service on AWS (ROSA)?\"\n",
    "Output: \"Red Hat Openshift Service on AWS (ROSA) is a fully-managed turnkey application platform that allows you to focus on what matters most, delivering value to your customers by building and deploying applications. Red Hat SRE experts manage the underlying platform so you don’t have to worry about the complexity of infrastructure management.\"\n",
    "\n",
    "Input: \"Where can I go to get more information/details?\"\n",
    "Output: \"You can find more information at the following links [ROSA Webpage](https://www.openshift.com/products/amazon-openshift)\n",
    "- [ROSA Workshop](https://www.rosaworkshop.io)\n",
    "- [ROSA Documentation](https://docs.openshift.com/rosa/welcome/index.html)\"\n",
    "\n",
    "\n",
    "If you don't know the answer, please respond with: \"I'm sorry, I don't have enough information to generate that content.\n",
    "Please help this ROSA customer to find the answer to this {question} given the relevant content around the question {context}:\n",
    "\"\"\"\n",
    "\n",
    "prompt = PromptTemplate(\n",
    "    input_variables=[\"question\", \"context\"],\n",
    "    template=template,\n",
    ")\n",
    "chain = load_qa_chain(OpenAI(temperature=0), chain_type=\"stuff\", prompt=prompt)"
   ]
  },
  {
   "cell_type": "code",
   "execution_count": 130,
   "id": "4422584c",
   "metadata": {},
   "outputs": [
    {
     "name": "stdout",
     "output_type": "stream",
     "text": [
      "1/65 done\n",
      "2/65 done\n",
      "3/65 done\n",
      "4/65 done\n",
      "5/65 done\n",
      "6/65 done\n",
      "7/65 done\n",
      "8/65 done\n",
      "9/65 done\n",
      "10/65 done\n",
      "11/65 done\n",
      "12/65 done\n",
      "13/65 done\n",
      "14/65 done\n",
      "15/65 done\n",
      "16/65 done\n",
      "17/65 done\n",
      "18/65 done\n",
      "19/65 done\n",
      "20/65 done\n",
      "21/65 done\n",
      "22/65 done\n",
      "23/65 done\n",
      "24/65 done\n",
      "25/65 done\n",
      "26/65 done\n",
      "27/65 done\n",
      "28/65 done\n",
      "29/65 done\n",
      "30/65 done\n",
      "31/65 done\n"
     ]
    }
   ],
   "source": [
    "eval_dataset = pd.read_csv('../data/processed/validation_data.csv')[['Question', 'Answer']]\n",
    "questions = eval_dataset['Question'].tolist()\n",
    "real_answers = eval_dataset['Answer'].tolist()\n",
    "generated_answers = list()\n",
    "i=1\n",
    "for query in eval_dataset['Question'].tolist():\n",
    "    answer = answer_question(query, docsearch, chain)\n",
    "    generated_answers.append(answer)\n",
    "    ## Add delay to avoid rate limit error\n",
    "    time.sleep(1)\n",
    "    print(f\"{i}/{len(eval_dataset)} done\")\n",
    "    i+=1\n",
    "    \n",
    "eval_dataset['generated_answers'] = generated_answers"
   ]
  },
  {
   "cell_type": "code",
   "execution_count": null,
   "id": "1b5ec96f",
   "metadata": {},
   "outputs": [],
   "source": [
    "# Save data for analysis\n",
    "eval_dataset.to_csv(\"../data/results/openai-1/generated-answers.csv\")"
   ]
  },
  {
   "cell_type": "markdown",
   "id": "f3f61363",
   "metadata": {},
   "source": [
    "### Qualitative evaluation"
   ]
  },
  {
   "cell_type": "code",
   "execution_count": 67,
   "id": "d0471580",
   "metadata": {},
   "outputs": [
    {
     "data": {
      "text/plain": [
       "['\\n- [Adding support contacts](https://docs.openshift.com/rosa/4.5/managing_clusters/adding_support_contacts.html)\\n\\n#### Configuration examples\\n\\nYou can find configuration examples for ROSA in the [documentation](https://docs.openshift.com/rosa/4.5/configuring_clusters/configuring_clusters.html).\\n\\n#### Pricing\\n\\nYou can find pricing information for ROSA on the [Red Hat OpenShift Service on AWS](https://www.openshift.com/products/amazon-openshift) page.',\n",
       " '\\nRed Hat OpenShift Service on AWS is managed by Red Hat SRE experts who will monitor and maintain the underlying platform so you don’t have to worry about the complexity of infrastructure management. Red Hat will also provide support for the OpenShift software component.',\n",
       " '\\nYes, all Red Hat OpenShift Service on AWS 4.8 clusters require an administrator acknowledgment before they can be upgraded to Red Hat OpenShift Service on AWS 4.9. This acknowledgment is required to ensure that the customer is aware of the changes and new features that are included in the upgrade. The acknowledgment can be found in the Red Hat OpenShift Service on AWS console.',\n",
       " '\\nFor more information, please refer to the [Red Hat OpenShift Service on AWS documentation](https://docs.openshift.com/rosa/welcome/index.html).']"
      ]
     },
     "execution_count": 67,
     "metadata": {},
     "output_type": "execute_result"
    }
   ],
   "source": [
    "qs = [\"What exactly am I responsible for and what is Red Hat / AWS responsible for?\",\n",
    "             \"Do I need to sign/have a contract with Red Hat?\",\n",
    "             \"Where can I go to get more information/details?\",\n",
    "             \"Which compliance certifications does ROSA have so far?\"]\n",
    "\n",
    "eval_dataset[eval_dataset['Question'].isin(qs)]['generated_answers'].to_list()"
   ]
  },
  {
   "cell_type": "markdown",
   "id": "426c57e5",
   "metadata": {},
   "source": [
    "Example 1\n",
    "- Question: _What exactly am I responsible for and what is Red Hat / AWS responsible for?_ \n",
    "- Actual Answer: \"In short, anything that is related to deploying the cluster or keeping the cluster running will be Red Hat’s or AWS’s responsibility, and anything relating to the applications, users, or data is the customers responsibility.  Please see our [responsibility matrix](https://docs.openshift.com/rosa/rosa_architecture/rosa_policy_service_definition/rosa-policy-responsibility-matrix.html) for more details.\"\n",
    "- Generated Answer: Red Hat OpenShift Service on AWS is managed by Red Hat SRE experts who will monitor and maintain the underlying platform so you don’t have to worry about the complexity of infrastructure management. Red Hat will also provide support for the OpenShift software component.'\n",
    "- **Observations: The answer is partially correct, it doesn't go into user responsibilities.**\n",
    "\n",
    "Example 2\n",
    "- Question: _Do I need to sign/have a contract with Red Hat?_ \n",
    "- Actual Answer: \"No. You do not need to have a contract with Red Hat to use ROSA. You will need a Red Hat account for use on console.redhat.com which includes accepting our Enterprise Agreement and Online services terms.\"\n",
    "- Generated Answer:  Yes, all Red Hat OpenShift Service on AWS 4.8 clusters require an administrator acknowledgment before they can be upgraded to Red Hat OpenShift Service on AWS 4.9. This acknowledgment is required to ensure that the customer is aware of the changes and new features that are included in the upgrade. The acknowledgment can be found in the Red Hat OpenShift Service on AWS console.',\n",
    "- **Observations: It is incorrect as it understands it as a contract for upgrade.**\n",
    "\n",
    "Example 3\n",
    "- Question: _Where can I go to get more information/details?_ \n",
    "- Actual Answer: \"[ROSA Webpage](https://www.openshift.com/products/amazon-openshift)...\"\n",
    "- Generated Answer:  [Adding support contacts](https://docs.openshift.com/rosa/4.5/managing_clusters/adding_support_contacts.html)\\n\\n#### Configuration examples\\n\\nYou can find configuration examples for ROSA in the [documentation](https://docs.openshift.com/rosa/4.5/configuring_clusters/configuring_clusters.html).\\n\\n#### Pricing\\n\\nYou can find pricing information for ROSA on the [Red Hat OpenShift Service on AWS](https://www.openshift.com/products/amazon-openshift) page.\n",
    "- **Observations: The links are different and two of them don't work.**\n",
    "\n",
    "Example 4\n",
    "- Question: _Which compliance certifications does ROSA have so far?_\n",
    "- Actual Answer: Red Hat OpenShift Service on AWS is currently compliant with SOC-1, SOC-2 type 1 & type 2, ISO-27001, & PCI-DSS. We are also currently working towards FedRAMP High, HIPAA, ISO 27017 and ISO 27018 as well.\n",
    "- Generated Answer: For more information, please refer to the [Red Hat OpenShift Service on AWS documentation](https://docs.openshift.com/rosa/welcome/index.html)\n",
    "- **Observation: The answer is not incorrect here.**\n",
    "\n",
    "Overall, the questions that lacked context have better answers but there are still incorrect responses. Let's try tweaking the prompt."
   ]
  },
  {
   "cell_type": "markdown",
   "id": "0851a78a",
   "metadata": {},
   "source": [
    "### Another tweak with reduced noise in the prompt"
   ]
  },
  {
   "cell_type": "code",
   "execution_count": null,
   "id": "8c896409",
   "metadata": {},
   "outputs": [],
   "source": [
    "template = \"\"\"\n",
    "You are a support engineer generating answers for questions around the Red Hat Openshift Service on AWS (ROSA) product. \n",
    "Your goal is to answer questions that ROSA customers and users would find correct and useful. \n",
    "You should be descriptive and provide documentation web links to support your answer. \n",
    "\n",
    "Here are a few input and output pairs examples to guide the model:\n",
    "\n",
    "I am a ROSA user and I want to know the answer to this question: \"What is Red Hat OpenShift Service on AWS (ROSA)?\"\n",
    "Answer: \"Red Hat Openshift Service on AWS (ROSA) is a fully-managed turnkey application platform that allows you to focus on what matters most, delivering value to your customers by building and deploying applications. Red Hat SRE experts manage the underlying platform so you don’t have to worry about the complexity of infrastructure management.\"\n",
    "\n",
    "I am a ROSA user and I want to know the answer to this question:: \"Where can I go to get more information/details?\"\n",
    "Answer: \"You can find more information at the following links [ROSA Webpage](https://www.openshift.com/products/amazon-openshift)\n",
    "- [ROSA Workshop](https://www.rosaworkshop.io)\n",
    "- [ROSA Documentation](https://docs.openshift.com/rosa/welcome/index.html)\"\n",
    "\n",
    "\n",
    "If you don't know the answer, please respond with: \"I'm sorry, I don't have enough information to generate that content.\n",
    "Use the above guidelines to answer the following question:\n",
    "I am a ROSA user and I want to know the answer to this question {question}. You can use the {context} for help.\n",
    "Answer:\n",
    "\"\"\"\n",
    "\n",
    "prompt = PromptTemplate(\n",
    "    input_variables=[\"question\", \"context\"],\n",
    "    template=template,\n",
    ")\n",
    "chain = load_qa_chain(OpenAI(temperature=0), chain_type=\"stuff\", prompt=prompt)"
   ]
  },
  {
   "cell_type": "code",
   "execution_count": null,
   "id": "e24b1d1a",
   "metadata": {},
   "outputs": [
    {
     "name": "stdout",
     "output_type": "stream",
     "text": [
      "1/65 done\n",
      "2/65 done\n",
      "3/65 done\n",
      "4/65 done\n",
      "5/65 done\n",
      "6/65 done\n",
      "7/65 done\n",
      "8/65 done\n",
      "9/65 done\n",
      "10/65 done\n",
      "11/65 done\n",
      "12/65 done\n",
      "13/65 done\n",
      "14/65 done\n",
      "15/65 done\n",
      "16/65 done\n",
      "17/65 done\n",
      "18/65 done\n",
      "19/65 done\n",
      "20/65 done\n",
      "21/65 done\n",
      "22/65 done\n",
      "23/65 done\n",
      "24/65 done\n",
      "25/65 done\n",
      "26/65 done\n",
      "27/65 done\n",
      "28/65 done\n",
      "29/65 done\n",
      "30/65 done\n",
      "31/65 done\n",
      "32/65 done\n",
      "33/65 done\n",
      "34/65 done\n",
      "35/65 done\n",
      "36/65 done\n",
      "37/65 done\n",
      "38/65 done\n",
      "39/65 done\n",
      "40/65 done\n",
      "41/65 done\n",
      "42/65 done\n",
      "43/65 done\n",
      "44/65 done\n",
      "45/65 done\n",
      "46/65 done\n",
      "47/65 done\n",
      "48/65 done\n",
      "49/65 done\n",
      "50/65 done\n",
      "51/65 done\n",
      "52/65 done\n",
      "53/65 done\n",
      "54/65 done\n",
      "55/65 done\n",
      "56/65 done\n",
      "57/65 done\n",
      "58/65 done\n",
      "59/65 done\n",
      "60/65 done\n",
      "61/65 done\n",
      "62/65 done\n",
      "63/65 done\n",
      "64/65 done\n",
      "65/65 done\n"
     ]
    }
   ],
   "source": [
    "eval_dataset = pd.read_csv('../data/processed/validation_data.csv')[['Question', 'Answer']]\n",
    "questions = eval_dataset['Question'].tolist()\n",
    "real_answers = eval_dataset['Answer'].tolist()\n",
    "generated_answers = list()\n",
    "i=1\n",
    "for query in questions:\n",
    "    answer = answer_question(query, docsearch, chain)\n",
    "    generated_answers.append(answer)\n",
    "    ## Add delay to avoid rate limit error\n",
    "    time.sleep(1)\n",
    "    print(f\"{i}/{len(eval_dataset)} done\")\n",
    "    i+=1"
   ]
  },
  {
   "cell_type": "code",
   "execution_count": null,
   "id": "660ba04e",
   "metadata": {},
   "outputs": [],
   "source": [
    "eval_dataset['generated_answers'] = generated_answers\n",
    "eval_dataset.to_csv(\"../data/results/openai-2/generated-answers.csv\")"
   ]
  },
  {
   "cell_type": "markdown",
   "id": "328a1c1b",
   "metadata": {},
   "source": [
    "Example 1\n",
    "- Question: _What exactly am I responsible for and what is Red Hat / AWS responsible for?_ \n",
    "- Actual Answer: \"In short, anything that is related to deploying the cluster or keeping the cluster running will be Red Hat’s or AWS’s responsibility, and anything relating to the applications, users, or data is the customers responsibility.  Please see our [responsibility matrix](https://docs.openshift.com/rosa/rosa_architecture/rosa_policy_service_definition/rosa-policy-responsibility-matrix.html) for more details.\"\n",
    "- Generated Answer: 'Red Hat OpenShift Service on AWS (ROSA) is a fully-managed turnkey application platform that allows you to focus on what matters most, delivering value to your customers by building and deploying applications. Red Hat SRE experts manage the underlying platform so you don’t have to worry about the complexity of infrastructure management. \\n\\nWhen you provision ROSA clusters, you will incur the infrastructure and OpenShift charges at the pay-as-you-go hourly rate. Red Hat and AWS are responsible for the monitoring and maintenance of the ROSA cluster, while the customer is responsible for the applications, workloads, and data that they deploy to the cluster. For more information, please refer to our [responsibility matrix](https://docs.openshift.com/rosa/rosa_architecture/rosa_policy_service_definition/rosa-policy-responsibility-matrix.html) and [pricing page](https://www.openshift.com/products/amazon-openshift/pricing).'\n",
    "- **Observations: The answer is correct and comprehensive**\n",
    "\n",
    "Example 2\n",
    "- Question: _Do I need to sign/have a contract with Red Hat?_ \n",
    "- Actual Answer: \"No, you do not need to sign/have a contract with Red Hat to use ROSA. You will need a Red Hat account for use on console.redhat.com which includes accepting our Enterprise Agreement and Online services terms. All Red Hat OpenShift Service on AWS 4.8 clusters require this administrator acknowledgment before they can be upgraded to Red Hat OpenShift Service on AWS 4.9. For more information, please refer to the [ROSA Documentation](https://docs.openshift.com/rosa/welcome/index.html)',\n",
    "- **Observations: The first part of the answer is completely correct. Although it adds irrelevant information.**\n",
    "\n",
    "Example 3\n",
    "- Question: _Where can I go to get more information/details?_ \n",
    "- Actual Answer: \"[ROSA Webpage](https://www.openshift.com/products/amazon-openshift)...\"\n",
    "- Generated Answer: You can find more information about obtaining support for Red Hat OpenShift Service on AWS (ROSA) at the following links: \\n- [ROSA Home Page](../../#resources)\\n- [Adding Support Contacts](https://docs.openshift.com/rosa/4.5/managing_clusters/managing_cluster_support_contacts.html)\\n- [ROSA Documentation](https://docs.openshift.com/rosa/welcome/index.html)'.\n",
    "- **Observations: The links are different and two of them don't work.**\n",
    "\n",
    "Example 4\n",
    "- Question: _Which compliance certifications does ROSA have so far?_\n",
    "- Actual Answer: Red Hat OpenShift Service on AWS is currently compliant with SOC-1, SOC-2 type 1 & type 2, ISO-27001, & PCI-DSS. We are also currently working towards FedRAMP High, HIPAA, ISO 27017 and ISO 27018 as well.\n",
    "- Generated Answer: No, all nodes in a Red Hat OpenShift Service on AWS cluster must be located in the same AWS region; this follows the same model as that of OCP. For clusters configured for multiple availability zones control plane nodes and worker nodes will be distributed across the availability zones. For more information, please refer to the [Red Hat OpenShift Service on AWS documentation](https://docs.openshift.com/rosa/welcome/index.html).\n",
    "- **Observation: The answer is incorrect here.**\n",
    "\n",
    "The prompt needs to be refined further for this domain."
   ]
  },
  {
   "cell_type": "markdown",
   "id": "5dc6d0f6-526b-4e4c-96cd-106dfa6e87e8",
   "metadata": {},
   "source": [
    "## Conclusion"
   ]
  },
  {
   "cell_type": "markdown",
   "id": "f16458d9-e07d-4f5c-9f11-a1008ad7c12a",
   "metadata": {},
   "source": [
    "In this work, we generated answers using the OpenAI language model and evaluated their quality against the ground truth answers for a set of questions in the FAQ document.  We discussed two approaches: embedding search and text generation. \n",
    "\n",
    "The next steps here are to improve the results we obtained with both the approaches. Parallely, we want to think about the tools and pipeling required to bring the first version in front of support engineers. Additionally, we would require more examples of question and answers around ROSA. "
   ]
  }
 ],
 "metadata": {
  "kernelspec": {
   "display_name": "Python 3 (ipykernel)",
   "language": "python",
   "name": "python3"
  },
  "language_info": {
   "codemirror_mode": {
    "name": "ipython",
    "version": 3
   },
   "file_extension": ".py",
   "mimetype": "text/x-python",
   "name": "python",
   "nbconvert_exporter": "python",
   "pygments_lexer": "ipython3",
   "version": "3.9.14"
  }
 },
 "nbformat": 4,
 "nbformat_minor": 5
}
